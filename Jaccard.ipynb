{
  "nbformat": 4,
  "nbformat_minor": 0,
  "metadata": {
    "colab": {
      "provenance": []
    },
    "kernelspec": {
      "name": "python3",
      "display_name": "Python 3"
    },
    "language_info": {
      "name": "python"
    }
  },
  "cells": [
    {
      "cell_type": "code",
      "execution_count": 1,
      "metadata": {
        "id": "SdZMKBP2k0-P"
      },
      "outputs": [],
      "source": [
        "import bs4\n",
        "from bs4 import BeautifulSoup"
      ]
    },
    {
      "cell_type": "code",
      "source": [
        "from google.colab import files\n",
        "uploads=files.upload()"
      ],
      "metadata": {
        "colab": {
          "base_uri": "https://localhost:8080/",
          "height": 73
        },
        "id": "cYhHUvAt9Y4v",
        "outputId": "b8c1adda-6f45-4ce9-9f4d-f919504330bb"
      },
      "execution_count": 2,
      "outputs": [
        {
          "output_type": "display_data",
          "data": {
            "text/plain": [
              "<IPython.core.display.HTML object>"
            ],
            "text/html": [
              "\n",
              "     <input type=\"file\" id=\"files-2eb09582-709b-41e6-8789-6601621d9c7d\" name=\"files[]\" multiple disabled\n",
              "        style=\"border:none\" />\n",
              "     <output id=\"result-2eb09582-709b-41e6-8789-6601621d9c7d\">\n",
              "      Upload widget is only available when the cell has been executed in the\n",
              "      current browser session. Please rerun this cell to enable.\n",
              "      </output>\n",
              "      <script>// Copyright 2017 Google LLC\n",
              "//\n",
              "// Licensed under the Apache License, Version 2.0 (the \"License\");\n",
              "// you may not use this file except in compliance with the License.\n",
              "// You may obtain a copy of the License at\n",
              "//\n",
              "//      http://www.apache.org/licenses/LICENSE-2.0\n",
              "//\n",
              "// Unless required by applicable law or agreed to in writing, software\n",
              "// distributed under the License is distributed on an \"AS IS\" BASIS,\n",
              "// WITHOUT WARRANTIES OR CONDITIONS OF ANY KIND, either express or implied.\n",
              "// See the License for the specific language governing permissions and\n",
              "// limitations under the License.\n",
              "\n",
              "/**\n",
              " * @fileoverview Helpers for google.colab Python module.\n",
              " */\n",
              "(function(scope) {\n",
              "function span(text, styleAttributes = {}) {\n",
              "  const element = document.createElement('span');\n",
              "  element.textContent = text;\n",
              "  for (const key of Object.keys(styleAttributes)) {\n",
              "    element.style[key] = styleAttributes[key];\n",
              "  }\n",
              "  return element;\n",
              "}\n",
              "\n",
              "// Max number of bytes which will be uploaded at a time.\n",
              "const MAX_PAYLOAD_SIZE = 100 * 1024;\n",
              "\n",
              "function _uploadFiles(inputId, outputId) {\n",
              "  const steps = uploadFilesStep(inputId, outputId);\n",
              "  const outputElement = document.getElementById(outputId);\n",
              "  // Cache steps on the outputElement to make it available for the next call\n",
              "  // to uploadFilesContinue from Python.\n",
              "  outputElement.steps = steps;\n",
              "\n",
              "  return _uploadFilesContinue(outputId);\n",
              "}\n",
              "\n",
              "// This is roughly an async generator (not supported in the browser yet),\n",
              "// where there are multiple asynchronous steps and the Python side is going\n",
              "// to poll for completion of each step.\n",
              "// This uses a Promise to block the python side on completion of each step,\n",
              "// then passes the result of the previous step as the input to the next step.\n",
              "function _uploadFilesContinue(outputId) {\n",
              "  const outputElement = document.getElementById(outputId);\n",
              "  const steps = outputElement.steps;\n",
              "\n",
              "  const next = steps.next(outputElement.lastPromiseValue);\n",
              "  return Promise.resolve(next.value.promise).then((value) => {\n",
              "    // Cache the last promise value to make it available to the next\n",
              "    // step of the generator.\n",
              "    outputElement.lastPromiseValue = value;\n",
              "    return next.value.response;\n",
              "  });\n",
              "}\n",
              "\n",
              "/**\n",
              " * Generator function which is called between each async step of the upload\n",
              " * process.\n",
              " * @param {string} inputId Element ID of the input file picker element.\n",
              " * @param {string} outputId Element ID of the output display.\n",
              " * @return {!Iterable<!Object>} Iterable of next steps.\n",
              " */\n",
              "function* uploadFilesStep(inputId, outputId) {\n",
              "  const inputElement = document.getElementById(inputId);\n",
              "  inputElement.disabled = false;\n",
              "\n",
              "  const outputElement = document.getElementById(outputId);\n",
              "  outputElement.innerHTML = '';\n",
              "\n",
              "  const pickedPromise = new Promise((resolve) => {\n",
              "    inputElement.addEventListener('change', (e) => {\n",
              "      resolve(e.target.files);\n",
              "    });\n",
              "  });\n",
              "\n",
              "  const cancel = document.createElement('button');\n",
              "  inputElement.parentElement.appendChild(cancel);\n",
              "  cancel.textContent = 'Cancel upload';\n",
              "  const cancelPromise = new Promise((resolve) => {\n",
              "    cancel.onclick = () => {\n",
              "      resolve(null);\n",
              "    };\n",
              "  });\n",
              "\n",
              "  // Wait for the user to pick the files.\n",
              "  const files = yield {\n",
              "    promise: Promise.race([pickedPromise, cancelPromise]),\n",
              "    response: {\n",
              "      action: 'starting',\n",
              "    }\n",
              "  };\n",
              "\n",
              "  cancel.remove();\n",
              "\n",
              "  // Disable the input element since further picks are not allowed.\n",
              "  inputElement.disabled = true;\n",
              "\n",
              "  if (!files) {\n",
              "    return {\n",
              "      response: {\n",
              "        action: 'complete',\n",
              "      }\n",
              "    };\n",
              "  }\n",
              "\n",
              "  for (const file of files) {\n",
              "    const li = document.createElement('li');\n",
              "    li.append(span(file.name, {fontWeight: 'bold'}));\n",
              "    li.append(span(\n",
              "        `(${file.type || 'n/a'}) - ${file.size} bytes, ` +\n",
              "        `last modified: ${\n",
              "            file.lastModifiedDate ? file.lastModifiedDate.toLocaleDateString() :\n",
              "                                    'n/a'} - `));\n",
              "    const percent = span('0% done');\n",
              "    li.appendChild(percent);\n",
              "\n",
              "    outputElement.appendChild(li);\n",
              "\n",
              "    const fileDataPromise = new Promise((resolve) => {\n",
              "      const reader = new FileReader();\n",
              "      reader.onload = (e) => {\n",
              "        resolve(e.target.result);\n",
              "      };\n",
              "      reader.readAsArrayBuffer(file);\n",
              "    });\n",
              "    // Wait for the data to be ready.\n",
              "    let fileData = yield {\n",
              "      promise: fileDataPromise,\n",
              "      response: {\n",
              "        action: 'continue',\n",
              "      }\n",
              "    };\n",
              "\n",
              "    // Use a chunked sending to avoid message size limits. See b/62115660.\n",
              "    let position = 0;\n",
              "    do {\n",
              "      const length = Math.min(fileData.byteLength - position, MAX_PAYLOAD_SIZE);\n",
              "      const chunk = new Uint8Array(fileData, position, length);\n",
              "      position += length;\n",
              "\n",
              "      const base64 = btoa(String.fromCharCode.apply(null, chunk));\n",
              "      yield {\n",
              "        response: {\n",
              "          action: 'append',\n",
              "          file: file.name,\n",
              "          data: base64,\n",
              "        },\n",
              "      };\n",
              "\n",
              "      let percentDone = fileData.byteLength === 0 ?\n",
              "          100 :\n",
              "          Math.round((position / fileData.byteLength) * 100);\n",
              "      percent.textContent = `${percentDone}% done`;\n",
              "\n",
              "    } while (position < fileData.byteLength);\n",
              "  }\n",
              "\n",
              "  // All done.\n",
              "  yield {\n",
              "    response: {\n",
              "      action: 'complete',\n",
              "    }\n",
              "  };\n",
              "}\n",
              "\n",
              "scope.google = scope.google || {};\n",
              "scope.google.colab = scope.google.colab || {};\n",
              "scope.google.colab._files = {\n",
              "  _uploadFiles,\n",
              "  _uploadFilesContinue,\n",
              "};\n",
              "})(self);\n",
              "</script> "
            ]
          },
          "metadata": {}
        },
        {
          "output_type": "stream",
          "name": "stdout",
          "text": [
            "Saving CSE508_Winter2023_Dataset (1).zip to CSE508_Winter2023_Dataset (1).zip\n"
          ]
        }
      ]
    },
    {
      "cell_type": "code",
      "source": [
        "import os"
      ],
      "metadata": {
        "id": "-utt91kgBCyA"
      },
      "execution_count": 3,
      "outputs": []
    },
    {
      "cell_type": "code",
      "source": [
        "os.mkdir('temp_dir')          #creating a new directory called temp_dir"
      ],
      "metadata": {
        "id": "f7vjK-d391jS"
      },
      "execution_count": 4,
      "outputs": []
    },
    {
      "cell_type": "code",
      "source": [
        "from zipfile import ZipFile\n",
        "with ZipFile(\"CSE508_Winter2023_Dataset.zip\", 'r') as zObject:  \n",
        "    zObject.extractall(path=\"temp_dir\")                           # Extracting all the members of the zip into directory temp_dir"
      ],
      "metadata": {
        "id": "tsaqPMoCm43b"
      },
      "execution_count": 5,
      "outputs": []
    },
    {
      "cell_type": "code",
      "source": [
        "# function for Relevant Text Extraction from the document files and then saving those content to the same file\n",
        "def extract_text(fname):\n",
        "  fobj=open(fname,'r')\n",
        "  contents=fobj.read()\n",
        "  sp=BeautifulSoup(contents,'lxml') \n",
        "  text_txt=''\n",
        "  title_txt=''\n",
        "  for txt in sp.find_all('text'):             # extracting the contents between the <TEXT>...</TEXT> tags\n",
        "    text_txt=txt.get_text()\n",
        "  for title in sp.find_all('title'):          # extracting the contents between the <TITLE>...</TITLE> tags\n",
        "    title_txt=title.get_text()\n",
        "  fin_txt=''.join([title_txt,text_txt])       # concatenating the 2 strings text_txt and title_txt using blank space.\n",
        "  fobj.close()\n",
        "  f_wrt=open(fname,'w')\n",
        "  f_wrt.write(fin_txt)\n",
        "  f_wrt.close()\n"
      ],
      "metadata": {
        "id": "YUNNuiqPoTsv"
      },
      "execution_count": 6,
      "outputs": []
    },
    {
      "cell_type": "code",
      "source": [
        "# fetching each files of CSE508_Winter2023_Dataset from temp_dir directory and doing Relevant Text Extraction for all documents\n",
        "\n",
        "files_list=os.listdir('/content/temp_dir/CSE508_Winter2023_Dataset')\n",
        "dir_path='/content/temp_dir/CSE508_Winter2023_Dataset'\n",
        "for fl in files_list:\n",
        "  fl_path=os.path.join(dir_path,fl)\n",
        "  extract_text(fl_path)                                "
      ],
      "metadata": {
        "id": "n3L738hcEM8E"
      },
      "execution_count": 7,
      "outputs": []
    },
    {
      "cell_type": "code",
      "source": [
        "# after Relevant Text Extraction of all documents from temp_dir, collecting them to a zipfile CSE508_Winter2023_Dataset_1.zip\n",
        "# then downloading the zipped file to store this dataset locally\n",
        "\n",
        "zf = ZipFile(\"CSE508_Winter2023_Dataset_1.zip\", \"w\")\n",
        "for dirname, subdirs, fles in os.walk(dir_path):\n",
        "    zf.write(dirname)\n",
        "    for filename in fles:\n",
        "        zf.write(os.path.join(dirname, filename))\n",
        "zf.close()\n",
        "files.download('/content/CSE508_Winter2023_Dataset_1.zip')"
      ],
      "metadata": {
        "id": "7rHMjAJ4K-fr",
        "colab": {
          "base_uri": "https://localhost:8080/",
          "height": 17
        },
        "outputId": "c709f096-fcbd-427e-fe5e-e64efd53ca57"
      },
      "execution_count": 8,
      "outputs": [
        {
          "output_type": "display_data",
          "data": {
            "text/plain": [
              "<IPython.core.display.Javascript object>"
            ],
            "application/javascript": [
              "\n",
              "    async function download(id, filename, size) {\n",
              "      if (!google.colab.kernel.accessAllowed) {\n",
              "        return;\n",
              "      }\n",
              "      const div = document.createElement('div');\n",
              "      const label = document.createElement('label');\n",
              "      label.textContent = `Downloading \"${filename}\": `;\n",
              "      div.appendChild(label);\n",
              "      const progress = document.createElement('progress');\n",
              "      progress.max = size;\n",
              "      div.appendChild(progress);\n",
              "      document.body.appendChild(div);\n",
              "\n",
              "      const buffers = [];\n",
              "      let downloaded = 0;\n",
              "\n",
              "      const channel = await google.colab.kernel.comms.open(id);\n",
              "      // Send a message to notify the kernel that we're ready.\n",
              "      channel.send({})\n",
              "\n",
              "      for await (const message of channel.messages) {\n",
              "        // Send a message to notify the kernel that we're ready.\n",
              "        channel.send({})\n",
              "        if (message.buffers) {\n",
              "          for (const buffer of message.buffers) {\n",
              "            buffers.push(buffer);\n",
              "            downloaded += buffer.byteLength;\n",
              "            progress.value = downloaded;\n",
              "          }\n",
              "        }\n",
              "      }\n",
              "      const blob = new Blob(buffers, {type: 'application/binary'});\n",
              "      const a = document.createElement('a');\n",
              "      a.href = window.URL.createObjectURL(blob);\n",
              "      a.download = filename;\n",
              "      div.appendChild(a);\n",
              "      a.click();\n",
              "      div.remove();\n",
              "    }\n",
              "  "
            ]
          },
          "metadata": {}
        },
        {
          "output_type": "display_data",
          "data": {
            "text/plain": [
              "<IPython.core.display.Javascript object>"
            ],
            "application/javascript": [
              "download(\"download_6e1ab42f-b3ce-4521-b7ed-9362987db105\", \"CSE508_Winter2023_Dataset_1.zip\", 1706385)"
            ]
          },
          "metadata": {}
        }
      ]
    },
    {
      "cell_type": "markdown",
      "source": [
        "#Method 1 : Optimized Preprocessing"
      ],
      "metadata": {
        "id": "ExUafefaTDP4"
      }
    },
    {
      "cell_type": "markdown",
      "source": [
        "#### Printing the content of first 5 files before any preprocessing step"
      ],
      "metadata": {
        "id": "XiE46Zm_RaCO"
      }
    },
    {
      "cell_type": "code",
      "source": [
        "count = 1\n",
        "for fl in files_list:\n",
        "  print(\"************************ File_{} ************************\".format(count))\n",
        "  fl_path=os.path.join(dir_path,fl)\n",
        "  fobj=open(fl_path,'r')\n",
        "  text=fobj.read()\n",
        "  print(text)\n",
        "  print(\"\\n\\n\\n\\n\")\n",
        "  fobj.close()\n",
        "  count +=1\n",
        "  if count > 5:\n",
        "    break\n"
      ],
      "metadata": {
        "colab": {
          "base_uri": "https://localhost:8080/"
        },
        "id": "kWC-cFZT9Iwv",
        "outputId": "0be8ca8e-d66f-443e-d74d-7b563f2811e3"
      },
      "execution_count": 9,
      "outputs": [
        {
          "output_type": "stream",
          "name": "stdout",
          "text": [
            "************************ File_1 ************************\n",
            "\n",
            "transition measurements on cones in free flight ballistics\n",
            "range tests .\n",
            "\n",
            "  navy-sponsored experimental investigation of the location of\n",
            "boundary-layer transition on sharp-nosed cones having 10 total\n",
            "angles .  the ambient temperature in a portion of the aeroballistics\n",
            "range is varied so as to obtain different adiabatic recovery temperatures\n",
            "at a constant nominal mach number of 3.1 .  the location\n",
            "of transition is expressed as a transition reynolds number, and\n",
            "results are presented graphically as a function of the ratio between\n",
            "the wall temperature and the adiabatic recovery temperature .\n",
            "\n",
            "\n",
            "\n",
            "\n",
            "\n",
            "\n",
            "************************ File_2 ************************\n",
            "\n",
            "dynamic stability of vehicles traversing ascending\n",
            "or descending paths through the atmosphere .\n",
            "\n",
            "  an analysis is given of the oscillatory motions of vehicles which\n",
            "traverse ascending and descending paths through the atmosphere at high\n",
            "speed .  the specific case of a skip path is examined in detail, and\n",
            "this leads to a form of solution for the oscillatory motion which should\n",
            "recur over any trajectory .  the distinguishing feature of this form is\n",
            "the appearance of the bessel rather than the trigonometric function as\n",
            "the characteristic mode of oscillation .\n",
            "\n",
            "\n",
            "\n",
            "\n",
            "\n",
            "\n",
            "************************ File_3 ************************\n",
            "\n",
            "performance estimates for the rae 6in . high-pressure\n",
            "shock tube .\n",
            "\n",
            "  estimates are made of the performance\n",
            "of the rae 6'' high pressure\n",
            "shock tube, with various driver gases, over\n",
            "a range of pressure ratios giving\n",
            "shock mach numbers from 6 to 22 .  the\n",
            "calculations are based on a simplified\n",
            "model of shock tube flow, in which the\n",
            "working fluid (argon-free air) is\n",
            "assumed to be always in chemical\n",
            "equilibrium, and the driver gas (either\n",
            "hydrogen, or the products of combustion\n",
            "of a hydrogen-oxygen mixture) is\n",
            "assumed to behave as an ideal gas with\n",
            "constant specifiic heats .\n",
            "  the results are presented in\n",
            "graphical form and comprise charts\n",
            "normal shock waves in argon-free air\n",
            "shock wave mach number and diaphragm\n",
            "pressure ratio under various initial conditions, and\n",
            "of the shock-induced flows, both\n",
            "in the uniform-sectioned shock tube, and\n",
            "when expanded in a divergent nozzle\n",
            "\n",
            "\n",
            "\n",
            "\n",
            "\n",
            "\n",
            "************************ File_4 ************************\n",
            "\n",
            "calculated responses of a large sweptwing airplane\n",
            "to continuous turbulence with flight-test comparisons .\n",
            "\n",
            "  calculated responses of symmetrical\n",
            "airplane motions, wing deformations,\n",
            "and wing loads due to gusts are\n",
            "shown to compare favorably with\n",
            "available flight-test results .  these\n",
            "calculated responses are based on\n",
            "random-process theory, five degrees of\n",
            "freedom, lifting-surface aerodynamics,\n",
            "and one-dimensional vertical\n",
            "turbulence .  the extent to which\n",
            "various degrees of freedom contribute\n",
            "to the responses is examined and\n",
            "in this connection the relative effects\n",
            "of static and dynamic aeroelasticity\n",
            "are determined .\n",
            "\n",
            "\n",
            "\n",
            "\n",
            "\n",
            "\n",
            "************************ File_5 ************************\n",
            "\n",
            "principles of creep buckling weight-strength analysis\n",
            "of aircraft structures .\n",
            "\n",
            "  the possibility of a gradual instability\n",
            "failure of a column under compressive\n",
            "load has been recognized\n",
            "for some time .  marin presented an\n",
            "analysis of creep buckling based on\n",
            "a theory of creep bending, but did not\n",
            "take into account the average stress\n",
            "due to axial loading .  the theory also\n",
            "neglected the transient (nonlinear)\n",
            "portion of the creep curve .\n",
            "  in efficient column design, the\n",
            "average stress should be relatively high in\n",
            "comparison with the bending stresses,.\n",
            "that is, the column should be as straight\n",
            "as possible and the slenderness ratio\n",
            "should not be too great .  under these\n",
            "conditions marin's theory is not\n",
            "directly applicable, although it gives good\n",
            "agreement with tests of columns\n",
            "having large slenderness ratios or large\n",
            "eccentricities .\n",
            "\n",
            "\n",
            "\n",
            "\n",
            "\n",
            "\n"
          ]
        }
      ]
    },
    {
      "cell_type": "markdown",
      "source": [
        "#### Now printing the content of first 5 files after lowercasing its contents"
      ],
      "metadata": {
        "id": "22sqAwYKR1fg"
      }
    },
    {
      "cell_type": "code",
      "source": [
        "for fl in files_list:                 # making update for all files in temp_dir\n",
        "  fl_path=os.path.join(dir_path,fl)\n",
        "  fobj=open(fl_path,'r+')\n",
        "  text=fobj.read()                    # fetching the file content into a string called 'text'\n",
        "  fobj.seek(0)                        # absolute file positioning\n",
        "  fobj.truncate()                     # to erase all data \n",
        "  fobj.write(text.lower())            # writing the lowercased content in the same file\n",
        "  fobj.close()\n",
        "\n",
        "count = 1\n",
        "print(\"Sample files after lowercasing the texts !!! \\n\\n\")\n",
        "for fl in files_list:\n",
        "  print(\"************************ File_{} ************************\".format(count))\n",
        "  fl_path=os.path.join(dir_path,fl)\n",
        "  fobj=open(fl_path,'r')\n",
        "  text=fobj.read()\n",
        "  print(text)\n",
        "  print(\"\\n\\n\\n\\n\")\n",
        "  fobj.close()\n",
        "  count +=1\n",
        "  if count > 5:\n",
        "    break\n"
      ],
      "metadata": {
        "colab": {
          "base_uri": "https://localhost:8080/"
        },
        "id": "d3EkjRbYFTPe",
        "outputId": "81836da6-0c39-4a7d-9800-77c7ed4db18d"
      },
      "execution_count": 10,
      "outputs": [
        {
          "output_type": "stream",
          "name": "stdout",
          "text": [
            "Sample files after lowercasing the texts !!! \n",
            "\n",
            "\n",
            "************************ File_1 ************************\n",
            "\n",
            "transition measurements on cones in free flight ballistics\n",
            "range tests .\n",
            "\n",
            "  navy-sponsored experimental investigation of the location of\n",
            "boundary-layer transition on sharp-nosed cones having 10 total\n",
            "angles .  the ambient temperature in a portion of the aeroballistics\n",
            "range is varied so as to obtain different adiabatic recovery temperatures\n",
            "at a constant nominal mach number of 3.1 .  the location\n",
            "of transition is expressed as a transition reynolds number, and\n",
            "results are presented graphically as a function of the ratio between\n",
            "the wall temperature and the adiabatic recovery temperature .\n",
            "\n",
            "\n",
            "\n",
            "\n",
            "\n",
            "\n",
            "************************ File_2 ************************\n",
            "\n",
            "dynamic stability of vehicles traversing ascending\n",
            "or descending paths through the atmosphere .\n",
            "\n",
            "  an analysis is given of the oscillatory motions of vehicles which\n",
            "traverse ascending and descending paths through the atmosphere at high\n",
            "speed .  the specific case of a skip path is examined in detail, and\n",
            "this leads to a form of solution for the oscillatory motion which should\n",
            "recur over any trajectory .  the distinguishing feature of this form is\n",
            "the appearance of the bessel rather than the trigonometric function as\n",
            "the characteristic mode of oscillation .\n",
            "\n",
            "\n",
            "\n",
            "\n",
            "\n",
            "\n",
            "************************ File_3 ************************\n",
            "\n",
            "performance estimates for the rae 6in . high-pressure\n",
            "shock tube .\n",
            "\n",
            "  estimates are made of the performance\n",
            "of the rae 6'' high pressure\n",
            "shock tube, with various driver gases, over\n",
            "a range of pressure ratios giving\n",
            "shock mach numbers from 6 to 22 .  the\n",
            "calculations are based on a simplified\n",
            "model of shock tube flow, in which the\n",
            "working fluid (argon-free air) is\n",
            "assumed to be always in chemical\n",
            "equilibrium, and the driver gas (either\n",
            "hydrogen, or the products of combustion\n",
            "of a hydrogen-oxygen mixture) is\n",
            "assumed to behave as an ideal gas with\n",
            "constant specifiic heats .\n",
            "  the results are presented in\n",
            "graphical form and comprise charts\n",
            "normal shock waves in argon-free air\n",
            "shock wave mach number and diaphragm\n",
            "pressure ratio under various initial conditions, and\n",
            "of the shock-induced flows, both\n",
            "in the uniform-sectioned shock tube, and\n",
            "when expanded in a divergent nozzle\n",
            "\n",
            "\n",
            "\n",
            "\n",
            "\n",
            "\n",
            "************************ File_4 ************************\n",
            "\n",
            "calculated responses of a large sweptwing airplane\n",
            "to continuous turbulence with flight-test comparisons .\n",
            "\n",
            "  calculated responses of symmetrical\n",
            "airplane motions, wing deformations,\n",
            "and wing loads due to gusts are\n",
            "shown to compare favorably with\n",
            "available flight-test results .  these\n",
            "calculated responses are based on\n",
            "random-process theory, five degrees of\n",
            "freedom, lifting-surface aerodynamics,\n",
            "and one-dimensional vertical\n",
            "turbulence .  the extent to which\n",
            "various degrees of freedom contribute\n",
            "to the responses is examined and\n",
            "in this connection the relative effects\n",
            "of static and dynamic aeroelasticity\n",
            "are determined .\n",
            "\n",
            "\n",
            "\n",
            "\n",
            "\n",
            "\n",
            "************************ File_5 ************************\n",
            "\n",
            "principles of creep buckling weight-strength analysis\n",
            "of aircraft structures .\n",
            "\n",
            "  the possibility of a gradual instability\n",
            "failure of a column under compressive\n",
            "load has been recognized\n",
            "for some time .  marin presented an\n",
            "analysis of creep buckling based on\n",
            "a theory of creep bending, but did not\n",
            "take into account the average stress\n",
            "due to axial loading .  the theory also\n",
            "neglected the transient (nonlinear)\n",
            "portion of the creep curve .\n",
            "  in efficient column design, the\n",
            "average stress should be relatively high in\n",
            "comparison with the bending stresses,.\n",
            "that is, the column should be as straight\n",
            "as possible and the slenderness ratio\n",
            "should not be too great .  under these\n",
            "conditions marin's theory is not\n",
            "directly applicable, although it gives good\n",
            "agreement with tests of columns\n",
            "having large slenderness ratios or large\n",
            "eccentricities .\n",
            "\n",
            "\n",
            "\n",
            "\n",
            "\n",
            "\n"
          ]
        }
      ]
    },
    {
      "cell_type": "markdown",
      "source": [
        "#### Now printing the content of first 5 files after removing punctuations and special characters"
      ],
      "metadata": {
        "id": "-hnOivD3Saiv"
      }
    },
    {
      "cell_type": "code",
      "source": [
        "import re\n",
        "for fl in files_list:\n",
        "  fl_path=os.path.join(dir_path,fl)\n",
        "  fobj=open(fl_path,'r+')\n",
        "  text=fobj.read()                         # obtaining the file content in a string called 'text'\n",
        "  words=re.sub('[^\\w\\s]',' ',text)         # Removing all characters which are not a word / number / blank-space from the string 'text'\n",
        "  fobj.seek(0)                             # absolute file positioning\n",
        "  fobj.truncate()                          # to erase all data \n",
        "  fobj.write(words)                        # writing the updated string in the same file\n",
        "  fobj.close()\n",
        "\n",
        "\n",
        "count = 1\n",
        "print(\"Sample files after removing punctuations and special characters !!! \\n\\n\")\n",
        "for fl in files_list:\n",
        "  print(\"************************ File_{} ************************\".format(count))\n",
        "  fl_path=os.path.join(dir_path,fl)\n",
        "  fobj=open(fl_path,'r')\n",
        "  text=fobj.read()\n",
        "  print(text)\n",
        "  print(\"\\n\\n\\n\\n\")\n",
        "  fobj.close()\n",
        "  count +=1\n",
        "  if count > 5:\n",
        "    break\n"
      ],
      "metadata": {
        "colab": {
          "base_uri": "https://localhost:8080/"
        },
        "id": "bLI9CQSsVUB1",
        "outputId": "6a091661-3bfc-4228-f1eb-782061c166fa"
      },
      "execution_count": 11,
      "outputs": [
        {
          "output_type": "stream",
          "name": "stdout",
          "text": [
            "Sample files after removing punctuations and special characters !!! \n",
            "\n",
            "\n",
            "************************ File_1 ************************\n",
            "\n",
            "transition measurements on cones in free flight ballistics\n",
            "range tests  \n",
            "\n",
            "  navy sponsored experimental investigation of the location of\n",
            "boundary layer transition on sharp nosed cones having 10 total\n",
            "angles    the ambient temperature in a portion of the aeroballistics\n",
            "range is varied so as to obtain different adiabatic recovery temperatures\n",
            "at a constant nominal mach number of 3 1    the location\n",
            "of transition is expressed as a transition reynolds number  and\n",
            "results are presented graphically as a function of the ratio between\n",
            "the wall temperature and the adiabatic recovery temperature  \n",
            "\n",
            "\n",
            "\n",
            "\n",
            "\n",
            "\n",
            "************************ File_2 ************************\n",
            "\n",
            "dynamic stability of vehicles traversing ascending\n",
            "or descending paths through the atmosphere  \n",
            "\n",
            "  an analysis is given of the oscillatory motions of vehicles which\n",
            "traverse ascending and descending paths through the atmosphere at high\n",
            "speed    the specific case of a skip path is examined in detail  and\n",
            "this leads to a form of solution for the oscillatory motion which should\n",
            "recur over any trajectory    the distinguishing feature of this form is\n",
            "the appearance of the bessel rather than the trigonometric function as\n",
            "the characteristic mode of oscillation  \n",
            "\n",
            "\n",
            "\n",
            "\n",
            "\n",
            "\n",
            "************************ File_3 ************************\n",
            "\n",
            "performance estimates for the rae 6in   high pressure\n",
            "shock tube  \n",
            "\n",
            "  estimates are made of the performance\n",
            "of the rae 6   high pressure\n",
            "shock tube  with various driver gases  over\n",
            "a range of pressure ratios giving\n",
            "shock mach numbers from 6 to 22    the\n",
            "calculations are based on a simplified\n",
            "model of shock tube flow  in which the\n",
            "working fluid  argon free air  is\n",
            "assumed to be always in chemical\n",
            "equilibrium  and the driver gas  either\n",
            "hydrogen  or the products of combustion\n",
            "of a hydrogen oxygen mixture  is\n",
            "assumed to behave as an ideal gas with\n",
            "constant specifiic heats  \n",
            "  the results are presented in\n",
            "graphical form and comprise charts\n",
            "normal shock waves in argon free air\n",
            "shock wave mach number and diaphragm\n",
            "pressure ratio under various initial conditions  and\n",
            "of the shock induced flows  both\n",
            "in the uniform sectioned shock tube  and\n",
            "when expanded in a divergent nozzle\n",
            "\n",
            "\n",
            "\n",
            "\n",
            "\n",
            "\n",
            "************************ File_4 ************************\n",
            "\n",
            "calculated responses of a large sweptwing airplane\n",
            "to continuous turbulence with flight test comparisons  \n",
            "\n",
            "  calculated responses of symmetrical\n",
            "airplane motions  wing deformations \n",
            "and wing loads due to gusts are\n",
            "shown to compare favorably with\n",
            "available flight test results    these\n",
            "calculated responses are based on\n",
            "random process theory  five degrees of\n",
            "freedom  lifting surface aerodynamics \n",
            "and one dimensional vertical\n",
            "turbulence    the extent to which\n",
            "various degrees of freedom contribute\n",
            "to the responses is examined and\n",
            "in this connection the relative effects\n",
            "of static and dynamic aeroelasticity\n",
            "are determined  \n",
            "\n",
            "\n",
            "\n",
            "\n",
            "\n",
            "\n",
            "************************ File_5 ************************\n",
            "\n",
            "principles of creep buckling weight strength analysis\n",
            "of aircraft structures  \n",
            "\n",
            "  the possibility of a gradual instability\n",
            "failure of a column under compressive\n",
            "load has been recognized\n",
            "for some time    marin presented an\n",
            "analysis of creep buckling based on\n",
            "a theory of creep bending  but did not\n",
            "take into account the average stress\n",
            "due to axial loading    the theory also\n",
            "neglected the transient  nonlinear \n",
            "portion of the creep curve  \n",
            "  in efficient column design  the\n",
            "average stress should be relatively high in\n",
            "comparison with the bending stresses  \n",
            "that is  the column should be as straight\n",
            "as possible and the slenderness ratio\n",
            "should not be too great    under these\n",
            "conditions marin s theory is not\n",
            "directly applicable  although it gives good\n",
            "agreement with tests of columns\n",
            "having large slenderness ratios or large\n",
            "eccentricities  \n",
            "\n",
            "\n",
            "\n",
            "\n",
            "\n",
            "\n"
          ]
        }
      ]
    },
    {
      "cell_type": "markdown",
      "source": [
        "#### Now printing the content of first 5 files after removing stopwords"
      ],
      "metadata": {
        "id": "gI_G69YNTPxe"
      }
    },
    {
      "cell_type": "code",
      "source": [
        "import nltk\n",
        "nltk.download('stopwords')\n",
        "from nltk.corpus import stopwords\n",
        "stop_words=list(stopwords.words(\"english\"))     # fetching the stop-words defined by the NLTK library in a list called 'stop_words'"
      ],
      "metadata": {
        "colab": {
          "base_uri": "https://localhost:8080/"
        },
        "id": "IQ0rsHYdabMp",
        "outputId": "d0eee12f-fc76-473b-c3c2-2c70f7d5415c"
      },
      "execution_count": 13,
      "outputs": [
        {
          "output_type": "stream",
          "name": "stderr",
          "text": [
            "[nltk_data] Downloading package stopwords to /root/nltk_data...\n",
            "[nltk_data]   Unzipping corpora/stopwords.zip.\n"
          ]
        }
      ]
    },
    {
      "cell_type": "code",
      "source": [
        "for fl in files_list:\n",
        "  fl_path=os.path.join(dir_path,fl)           # for all files in temp_dir making updates\n",
        "  fobj=open(fl_path,'r+')\n",
        "  text=fobj.read()\n",
        "  reexp='|'.join(stop_words)                  \n",
        "  reexp=\"\\W\"+\"(\"+reexp+\")\"+\"\\W\"\n",
        "  text_new=re.sub(reexp,' ',text)              # replacing the stopwords from the string 'text' and storing it to a string 'text_new'\n",
        "  fobj.seek(0)                                 # absolute file positioning\n",
        "  fobj.truncate()                              # to erase all data \n",
        "  fobj.write(text_new)                         # writing the updated string 'text_new' to the same file after stopword removal\n",
        "  fobj.close()\n",
        "\n",
        "\n",
        "count = 1\n",
        "print(\"Sample files after removing stop words !!! \\n\\n\")\n",
        "for fl in files_list:\n",
        "  print(\"************************ File_{} ************************\".format(count))\n",
        "  fl_path=os.path.join(dir_path,fl)\n",
        "  fobj=open(fl_path,'r')\n",
        "  text=fobj.read()\n",
        "  print(text)\n",
        "  print(\"\\n\\n\\n\\n\")\n",
        "  fobj.close()\n",
        "  count +=1\n",
        "  if count > 5:\n",
        "    break\n"
      ],
      "metadata": {
        "colab": {
          "base_uri": "https://localhost:8080/"
        },
        "id": "-XZLL050bNPH",
        "outputId": "34b63228-b10f-4c5b-cb1b-0e7484295004"
      },
      "execution_count": 14,
      "outputs": [
        {
          "output_type": "stream",
          "name": "stdout",
          "text": [
            "Sample files after removing stop words !!! \n",
            "\n",
            "\n",
            "************************ File_1 ************************\n",
            "\n",
            "transition measurements cones free flight ballistics\n",
            "range tests  \n",
            "\n",
            "  navy sponsored experimental investigation the location boundary layer transition sharp nosed cones 10 total\n",
            "angles    ambient temperature a portion the aeroballistics\n",
            "range varied as obtain different adiabatic recovery temperatures a constant nominal mach number 3 1    location transition expressed a transition reynolds number  results presented graphically a function the ratio the wall temperature the adiabatic recovery temperature  \n",
            "\n",
            "\n",
            "\n",
            "\n",
            "\n",
            "\n",
            "************************ File_2 ************************\n",
            "\n",
            "dynamic stability vehicles traversing ascending descending paths the atmosphere  \n",
            "\n",
            "  analysis given the oscillatory motions vehicles traverse ascending descending paths the atmosphere high\n",
            "speed    specific case a skip path examined detail  this leads a form solution the oscillatory motion should\n",
            "recur any trajectory    distinguishing feature this form the appearance the bessel rather the trigonometric function the characteristic mode oscillation  \n",
            "\n",
            "\n",
            "\n",
            "\n",
            "\n",
            "\n",
            "************************ File_3 ************************\n",
            "\n",
            "performance estimates the rae 6in   high pressure\n",
            "shock tube  \n",
            "\n",
            "  estimates made the performance the rae 6   high pressure\n",
            "shock tube  various driver gases  a range pressure ratios giving\n",
            "shock mach numbers 6 22    calculations based a simplified\n",
            "model shock tube flow  which working fluid  argon free air  assumed be always chemical\n",
            "equilibrium  the driver gas  either\n",
            "hydrogen  the products combustion a hydrogen oxygen mixture  assumed behave an ideal gas constant specifiic heats  \n",
            "  results presented graphical form comprise charts\n",
            "normal shock waves argon free air\n",
            "shock wave mach number diaphragm\n",
            "pressure ratio various initial conditions  of shock induced flows  in uniform sectioned shock tube  when expanded a divergent nozzle\n",
            "\n",
            "\n",
            "\n",
            "\n",
            "\n",
            "\n",
            "************************ File_4 ************************\n",
            "\n",
            "calculated responses a large sweptwing airplane continuous turbulence flight test comparisons  \n",
            "\n",
            "  calculated responses symmetrical\n",
            "airplane motions  wing deformations  wing loads due gusts shown compare favorably available flight test results    calculated responses based random process theory  five degrees freedom  lifting surface aerodynamics  one dimensional vertical\n",
            "turbulence    extent which\n",
            "various degrees freedom contribute the responses examined in connection relative effects static dynamic aeroelasticity determined  \n",
            "\n",
            "\n",
            "\n",
            "\n",
            "\n",
            "\n",
            "************************ File_5 ************************\n",
            "\n",
            "principles creep buckling weight strength analysis aircraft structures  \n",
            "\n",
            "  possibility a gradual instability\n",
            "failure a column compressive\n",
            "load been recognized some time    marin presented analysis creep buckling based a theory creep bending  did take account average stress\n",
            "due axial loading    theory also\n",
            "neglected transient  nonlinear \n",
            "portion the creep curve  \n",
            "  efficient column design  average stress be relatively high comparison the bending stresses   is  column be straight possible the slenderness ratio not too great    these\n",
            "conditions marin theory not\n",
            "directly applicable  although gives good\n",
            "agreement tests columns large slenderness ratios large\n",
            "eccentricities  \n",
            "\n",
            "\n",
            "\n",
            "\n",
            "\n",
            "\n"
          ]
        }
      ]
    },
    {
      "cell_type": "markdown",
      "source": [
        "#Jaccard coefficient"
      ],
      "metadata": {
        "id": "bgGHP71uc2Dg"
      }
    },
    {
      "cell_type": "code",
      "source": [
        "def jaccard_coefficient(query, document):\n",
        "    # Tokenize query and document into individual terms\n",
        "    query_terms = set(query.lower().split())\n",
        "    doc_terms = set(document.lower().split())\n",
        "    \n",
        "    # Calculate intersection and union of terms\n",
        "    intersection = query_terms.intersection(doc_terms)\n",
        "    union = query_terms.union(doc_terms)\n",
        "    \n",
        "    # Calculate Jaccard coefficient\n",
        "    jaccard_coef = len(intersection) / len(union)\n",
        "    \n",
        "    return jaccard_coef"
      ],
      "metadata": {
        "id": "elbcC9_Uc1jw"
      },
      "execution_count": 15,
      "outputs": []
    },
    {
      "cell_type": "code",
      "source": [
        "query=input(\"Enter the query  :\")"
      ],
      "metadata": {
        "colab": {
          "base_uri": "https://localhost:8080/"
        },
        "id": "H1cMHuTLdNQo",
        "outputId": "ea5f65d1-dabd-4b15-c92d-96e8877ace23"
      },
      "execution_count": 16,
      "outputs": [
        {
          "name": "stdout",
          "output_type": "stream",
          "text": [
            "Enter the query  :principles keep buckling weight strength analysis\n"
          ]
        }
      ]
    },
    {
      "cell_type": "code",
      "source": [
        "list_of_jaccard_coeff=[]"
      ],
      "metadata": {
        "id": "O5Z6togOeSty"
      },
      "execution_count": 19,
      "outputs": []
    },
    {
      "cell_type": "code",
      "source": [
        "for fl in files_list:\n",
        "  fl_path=os.path.join(dir_path,fl)\n",
        "  fobj=open(fl_path,'r')\n",
        "  text=fobj.read()\n",
        "  list_of_jaccard_coeff.append(jaccard_coefficient(query,text))\n",
        "  fobj.close()"
      ],
      "metadata": {
        "id": "UyfL-TpndY34"
      },
      "execution_count": 22,
      "outputs": []
    },
    {
      "cell_type": "code",
      "source": [
        "print(list_of_jaccard_coeff)"
      ],
      "metadata": {
        "colab": {
          "base_uri": "https://localhost:8080/"
        },
        "id": "2BDyHiubeqdD",
        "outputId": "82c2c0cf-b011-46fd-e092-7d0fef1d5031"
      },
      "execution_count": 23,
      "outputs": [
        {
          "output_type": "stream",
          "name": "stdout",
          "text": [
            "[0.0, 0.02127659574468085, 0.0, 0.0, 0.07246376811594203, 0.0, 0.0, 0.00980392156862745, 0.014285714285714285, 0.0, 0.0, 0.015625, 0.0, 0.0, 0.0, 0.0, 0.0, 0.0, 0.0, 0.0, 0.0, 0.0, 0.014285714285714285, 0.0, 0.0, 0.014084507042253521, 0.014285714285714285, 0.0, 0.0, 0.01020408163265306, 0.0, 0.011111111111111112, 0.0, 0.009174311926605505, 0.0, 0.009345794392523364, 0.0, 0.0, 0.0, 0.0, 0.0, 0.0, 0.0684931506849315, 0.0, 0.014084507042253521, 0.0, 0.0, 0.012987012987012988, 0.0, 0.0, 0.0, 0.0, 0.0, 0.0, 0.0, 0.016666666666666666, 0.00980392156862745, 0.0, 0.0, 0.0, 0.0, 0.011494252873563218, 0.029411764705882353, 0.0, 0.0, 0.0, 0.02, 0.0, 0.007936507936507936, 0.0, 0.0, 0.0, 0.0, 0.0, 0.0, 0.0, 0.0, 0.0, 0.0, 0.0, 0.013157894736842105, 0.0, 0.0, 0.013157894736842105, 0.0, 0.0, 0.0, 0.0, 0.013333333333333334, 0.0, 0.0, 0.0, 0.0, 0.0, 0.0, 0.0, 0.0, 0.0, 0.0, 0.0, 0.0, 0.02, 0.0, 0.0, 0.037037037037037035, 0.0, 0.0, 0.0, 0.005319148936170213, 0.0, 0.009259259259259259, 0.0, 0.0, 0.010752688172043012, 0.015625, 0.010638297872340425, 0.0, 0.0, 0.0, 0.0, 0.0, 0.0, 0.0, 0.0, 0.023529411764705882, 0.0, 0.0, 0.0, 0.0, 0.0, 0.0, 0.0, 0.0, 0.0, 0.006711409395973154, 0.0, 0.0, 0.01639344262295082, 0.0, 0.0, 0.0, 0.006944444444444444, 0.0, 0.016666666666666666, 0.019230769230769232, 0.0, 0.0, 0.02631578947368421, 0.0, 0.010638297872340425, 0.0, 0.0, 0.0, 0.0, 0.013888888888888888, 0.0, 0.0, 0.0, 0.014492753623188406, 0.0, 0.0, 0.0, 0.0, 0.0, 0.013888888888888888, 0.0, 0.008928571428571428, 0.018518518518518517, 0.024390243902439025, 0.0, 0.016129032258064516, 0.0, 0.0, 0.0, 0.0, 0.03225806451612903, 0.012195121951219513, 0.0, 0.0, 0.0, 0.0, 0.0, 0.018867924528301886, 0.0, 0.0, 0.0, 0.015384615384615385, 0.0, 0.0, 0.0, 0.0, 0.0, 0.01282051282051282, 0.0, 0.0, 0.0, 0.0, 0.0, 0.0, 0.0, 0.012048192771084338, 0.0, 0.0, 0.0, 0.0, 0.007518796992481203, 0.014084507042253521, 0.0, 0.0, 0.015151515151515152, 0.0, 0.02631578947368421, 0.010309278350515464, 0.022222222222222223, 0.024691358024691357, 0.0, 0.010526315789473684, 0.03225806451612903, 0.0, 0.0, 0.0, 0.0, 0.014084507042253521, 0.0, 0.0, 0.0, 0.0, 0.0, 0.010752688172043012, 0.03508771929824561, 0.0, 0.015384615384615385, 0.0, 0.008547008547008548, 0.008695652173913044, 0.01694915254237288, 0.0, 0.0, 0.012048192771084338, 0.0, 0.0, 0.018867924528301886, 0.0, 0.0, 0.0, 0.01694915254237288, 0.013888888888888888, 0.0, 0.0, 0.015151515151515152, 0.0, 0.0, 0.019417475728155338, 0.0, 0.011494252873563218, 0.0, 0.017241379310344827, 0.0, 0.011764705882352941, 0.009345794392523364, 0.0, 0.0, 0.0, 0.017241379310344827, 0.023255813953488372, 0.0, 0.0, 0.0, 0.0, 0.021739130434782608, 0.017857142857142856, 0.0, 0.0, 0.044444444444444446, 0.0, 0.0, 0.0, 0.0, 0.011904761904761904, 0.016129032258064516, 0.0, 0.0, 0.0, 0.0, 0.0, 0.0, 0.0, 0.0, 0.0, 0.01639344262295082, 0.021739130434782608, 0.0, 0.0, 0.0, 0.006622516556291391, 0.0, 0.0, 0.0, 0.00909090909090909, 0.0, 0.01020408163265306, 0.03333333333333333, 0.0, 0.0, 0.0, 0.012195121951219513, 0.011494252873563218, 0.0, 0.0, 0.0, 0.0, 0.0, 0.0, 0.0, 0.0, 0.0, 0.03125, 0.0, 0.034482758620689655, 0.0, 0.0, 0.041666666666666664, 0.021739130434782608, 0.0, 0.0, 0.0, 0.0, 0.009708737864077669, 0.011235955056179775, 0.0, 0.012345679012345678, 0.0, 0.030303030303030304, 0.0, 0.008403361344537815, 0.0, 0.0, 0.0, 0.014492753623188406, 0.0, 0.0, 0.022727272727272728, 0.010309278350515464, 0.0, 0.0, 0.0, 0.0, 0.0136986301369863, 0.0, 0.0, 0.0, 0.006802721088435374, 0.011904761904761904, 0.0, 0.0, 0.0, 0.010416666666666666, 0.008771929824561403, 0.03225806451612903, 0.0, 0.0, 0.0, 0.005747126436781609, 0.0, 0.0, 0.0, 0.0, 0.0, 0.0, 0.01904761904761905, 0.0, 0.0, 0.0, 0.0, 0.010309278350515464, 0.015873015873015872, 0.010526315789473684, 0.0, 0.0, 0.0, 0.01639344262295082, 0.012048192771084338, 0.013888888888888888, 0.0, 0.0, 0.010526315789473684, 0.02040816326530612, 0.0, 0.0, 0.0, 0.0, 0.0, 0.012048192771084338, 0.0, 0.0, 0.0, 0.0, 0.0, 0.006134969325153374, 0.020833333333333332, 0.00423728813559322, 0.0, 0.0, 0.022727272727272728, 0.0, 0.0, 0.0, 0.0, 0.0, 0.0, 0.0, 0.0, 0.02702702702702703, 0.0, 0.0, 0.0, 0.01818181818181818, 0.0, 0.018867924528301886, 0.0, 0.0, 0.0, 0.01098901098901099, 0.0, 0.010416666666666666, 0.0, 0.0, 0.0, 0.0, 0.0, 0.0, 0.010869565217391304, 0.0, 0.0, 0.0, 0.02857142857142857, 0.0, 0.0, 0.0056179775280898875, 0.0, 0.0, 0.0, 0.0, 0.020833333333333332, 0.0, 0.0, 0.0, 0.0, 0.012345679012345678, 0.0, 0.0, 0.0, 0.0, 0.0, 0.030303030303030304, 0.0, 0.007194244604316547, 0.0, 0.07692307692307693, 0.00625, 0.0, 0.0, 0.0, 0.0, 0.0, 0.0, 0.0, 0.0, 0.0, 0.0, 0.016666666666666666, 0.0, 0.013888888888888888, 0.0, 0.0, 0.0, 0.0, 0.0125, 0.0, 0.015151515151515152, 0.0, 0.009708737864077669, 0.017543859649122806, 0.03333333333333333, 0.0, 0.0, 0.0, 0.0, 0.0, 0.0, 0.0, 0.0, 0.0, 0.02127659574468085, 0.0, 0.010752688172043012, 0.008620689655172414, 0.0, 0.0, 0.007751937984496124, 0.0, 0.008333333333333333, 0.0, 0.016129032258064516, 0.008695652173913044, 0.007407407407407408, 0.0, 0.0, 0.0, 0.0, 0.0, 0.0, 0.011494252873563218, 0.016129032258064516, 0.0, 0.0, 0.015151515151515152, 0.011235955056179775, 0.008620689655172414, 0.021052631578947368, 0.015873015873015872, 0.0, 0.0, 0.0, 0.030303030303030304, 0.0, 0.0, 0.0, 0.0, 0.011904761904761904, 0.008547008547008548, 0.0, 0.0, 0.0, 0.011235955056179775, 0.011904761904761904, 0.0, 0.0, 0.021739130434782608, 0.0, 0.0, 0.015625, 0.02127659574468085, 0.0, 0.0196078431372549, 0.0, 0.009259259259259259, 0.007142857142857143, 0.020833333333333332, 0.0, 0.0, 0.0, 0.0136986301369863, 0.011111111111111112, 0.011764705882352941, 0.013157894736842105, 0.0, 0.0, 0.0, 0.006896551724137931, 0.0, 0.0, 0.0, 0.0, 0.0, 0.009009009009009009, 0.0, 0.0, 0.0, 0.0, 0.0, 0.013157894736842105, 0.0, 0.0, 0.0, 0.0, 0.0, 0.007692307692307693, 0.0, 0.0, 0.0, 0.012658227848101266, 0.0, 0.005025125628140704, 0.0045662100456621, 0.010869565217391304, 0.0, 0.0, 0.014492753623188406, 0.0, 0.0, 0.024390243902439025, 0.0, 0.0, 0.0, 0.0, 0.0, 0.0, 0.0, 0.0, 0.0, 0.0, 0.015384615384615385, 0.0, 0.0136986301369863, 0.0, 0.0, 0.0, 0.0, 0.0, 0.0, 0.0, 0.0, 0.0, 0.0, 0.0, 0.01818181818181818, 0.0, 0.0, 0.0, 0.03571428571428571, 0.0, 0.0, 0.0, 0.0, 0.0, 0.0, 0.0, 0.0, 0.029411764705882353, 0.0, 0.008928571428571428, 0.0, 0.0, 0.0, 0.0, 0.0, 0.0, 0.013513513513513514, 0.0, 0.0, 0.0, 0.0, 0.0, 0.0, 0.0, 0.0, 0.0, 0.018867924528301886, 0.0, 0.0, 0.0, 0.0, 0.0, 0.075, 0.0, 0.023809523809523808, 0.0, 0.0, 0.007462686567164179, 0.0, 0.02, 0.010752688172043012, 0.0, 0.0, 0.004901960784313725, 0.0, 0.0, 0.0125, 0.01098901098901099, 0.0, 0.0196078431372549, 0.0, 0.0, 0.0, 0.009708737864077669, 0.0, 0.007518796992481203, 0.0, 0.0, 0.015151515151515152, 0.006944444444444444, 0.0, 0.0, 0.0, 0.0, 0.02127659574468085, 0.0, 0.0, 0.02702702702702703, 0.0, 0.02, 0.0136986301369863, 0.0, 0.0, 0.0, 0.0392156862745098, 0.0, 0.014705882352941176, 0.06451612903225806, 0.0, 0.005952380952380952, 0.0, 0.0, 0.0, 0.0, 0.0, 0.0, 0.0, 0.010526315789473684, 0.009433962264150943, 0.0, 0.0, 0.0, 0.0, 0.0, 0.0, 0.0, 0.0, 0.0, 0.043478260869565216, 0.025974025974025976, 0.0, 0.0, 0.0, 0.0, 0.0, 0.0125, 0.01282051282051282, 0.0, 0.0, 0.0, 0.0, 0.0, 0.0, 0.017857142857142856, 0.0, 0.0, 0.0, 0.0, 0.014705882352941176, 0.01282051282051282, 0.0, 0.0, 0.0, 0.0, 0.0, 0.0, 0.0, 0.0, 0.008130081300813009, 0.0, 0.0, 0.016666666666666666, 0.0, 0.007194244604316547, 0.0, 0.006535947712418301, 0.0, 0.0, 0.012195121951219513, 0.0, 0.0, 0.0, 0.0, 0.0, 0.008928571428571428, 0.0, 0.0, 0.0, 0.0, 0.020833333333333332, 0.0, 0.0, 0.0, 0.01020408163265306, 0.021739130434782608, 0.0, 0.0, 0.0, 0.0, 0.0, 0.0, 0.0, 0.0, 0.0, 0.0, 0.021739130434782608, 0.011764705882352941, 0.0, 0.0, 0.0, 0.00684931506849315, 0.0, 0.08333333333333333, 0.0, 0.015384615384615385, 0.027777777777777776, 0.0, 0.0058823529411764705, 0.008403361344537815, 0.020833333333333332, 0.021739130434782608, 0.015384615384615385, 0.0, 0.0, 0.0, 0.014285714285714285, 0.0, 0.023809523809523808, 0.0, 0.0, 0.0, 0.0, 0.0, 0.0, 0.0, 0.0, 0.00980392156862745, 0.0, 0.0, 0.0, 0.0, 0.0, 0.016666666666666666, 0.0, 0.0, 0.0, 0.013888888888888888, 0.011494252873563218, 0.0, 0.0, 0.0, 0.0, 0.014285714285714285, 0.0, 0.015625, 0.015151515151515152, 0.008547008547008548, 0.02531645569620253, 0.0, 0.0, 0.0, 0.0, 0.009708737864077669, 0.0, 0.015384615384615385, 0.0, 0.0, 0.013888888888888888, 0.01282051282051282, 0.0, 0.0, 0.02040816326530612, 0.0, 0.0, 0.0, 0.022222222222222223, 0.0, 0.0, 0.025, 0.0, 0.006993006993006993, 0.010869565217391304, 0.007462686567164179, 0.02197802197802198, 0.009345794392523364, 0.022727272727272728, 0.0, 0.0, 0.00909090909090909, 0.0, 0.03225806451612903, 0.0, 0.0, 0.015151515151515152, 0.0, 0.016666666666666666, 0.0, 0.0, 0.03125, 0.0, 0.0, 0.0, 0.0, 0.0, 0.0, 0.0, 0.014285714285714285, 0.012987012987012988, 0.0, 0.0, 0.014492753623188406, 0.0, 0.0, 0.0, 0.0, 0.0, 0.006993006993006993, 0.016129032258064516, 0.0, 0.0, 0.0, 0.014492753623188406, 0.16129032258064516, 0.0, 0.03225806451612903, 0.0, 0.010752688172043012, 0.0, 0.0, 0.0, 0.0, 0.0, 0.0, 0.0, 0.005988023952095809, 0.0, 0.0, 0.0, 0.0, 0.005988023952095809, 0.0, 0.0, 0.0, 0.0, 0.0, 0.0, 0.0, 0.013513513513513514, 0.0, 0.009174311926605505, 0.0, 0.0, 0.008849557522123894, 0.0, 0.015384615384615385, 0.0, 0.017241379310344827, 0.013513513513513514, 0.0, 0.004761904761904762, 0.014598540145985401, 0.0, 0.010869565217391304, 0.0, 0.0, 0.0, 0.0, 0.0, 0.0, 0.0, 0.0, 0.0, 0.021739130434782608, 0.0, 0.015873015873015872, 0.0, 0.0, 0.0072992700729927005, 0.017857142857142856, 0.0, 0.0, 0.0, 0.0, 0.0, 0.0, 0.0, 0.0, 0.0, 0.05263157894736842, 0.03333333333333333, 0.0, 0.0, 0.0, 0.01282051282051282, 0.0, 0.0, 0.0, 0.0, 0.007194244604316547, 0.043478260869565216, 0.012345679012345678, 0.011627906976744186, 0.029411764705882353, 0.0, 0.015873015873015872, 0.021739130434782608, 0.02127659574468085, 0.0, 0.0, 0.0, 0.01639344262295082, 0.025, 0.0, 0.0125, 0.0, 0.0, 0.0, 0.0, 0.0, 0.0, 0.00684931506849315, 0.0, 0.0, 0.0, 0.023809523809523808, 0.0, 0.0, 0.03125, 0.0, 0.0, 0.009615384615384616, 0.0, 0.0, 0.0, 0.0, 0.0, 0.0, 0.010416666666666666, 0.015384615384615385, 0.0, 0.0, 0.0, 0.0, 0.015151515151515152, 0.0, 0.0, 0.0, 0.008695652173913044, 0.01, 0.011111111111111112, 0.0, 0.015384615384615385, 0.0, 0.0, 0.0, 0.0, 0.0, 0.0, 0.014084507042253521, 0.0, 0.1111111111111111, 0.02040816326530612, 0.0196078431372549, 0.0, 0.0, 0.012195121951219513, 0.0, 0.017241379310344827, 0.0, 0.016666666666666666, 0.0, 0.0625, 0.0, 0.0, 0.019230769230769232, 0.011235955056179775, 0.011235955056179775, 0.0, 0.017857142857142856, 0.0, 0.0, 0.0, 0.0, 0.0, 0.0, 0.0, 0.0, 0.010101010101010102, 0.0, 0.0, 0.0, 0.012345679012345678, 0.023809523809523808, 0.0, 0.0, 0.0, 0.01020408163265306, 0.024096385542168676, 0.016129032258064516, 0.0, 0.0, 0.0, 0.0, 0.0, 0.0, 0.020833333333333332, 0.0, 0.0, 0.0, 0.0, 0.008064516129032258, 0.0, 0.0, 0.0, 0.0, 0.008064516129032258, 0.02040816326530612, 0.0, 0.009433962264150943, 0.0196078431372549, 0.0, 0.0, 0.0, 0.0, 0.0, 0.0, 0.0, 0.0, 0.0, 0.0, 0.00980392156862745, 0.0, 0.0, 0.0, 0.0, 0.0, 0.0, 0.011363636363636364, 0.018867924528301886, 0.01282051282051282, 0.0, 0.0, 0.0, 0.011363636363636364, 0.01098901098901099, 0.0, 0.0, 0.0, 0.0, 0.0, 0.05555555555555555, 0.0, 0.015625, 0.0, 0.009345794392523364, 0.0, 0.0, 0.011363636363636364, 0.0, 0.0, 0.0, 0.0, 0.03571428571428571, 0.0, 0.010101010101010102, 0.0, 0.012658227848101266, 0.0, 0.0, 0.011235955056179775, 0.0056179775280898875, 0.0, 0.0, 0.0, 0.0, 0.0, 0.008130081300813009, 0.0, 0.0, 0.012987012987012988, 0.0, 0.0, 0.007936507936507936, 0.037037037037037035, 0.0, 0.0, 0.012658227848101266, 0.0, 0.0, 0.0, 0.0, 0.01098901098901099, 0.012987012987012988, 0.0, 0.012658227848101266, 0.0, 0.0, 0.0, 0.0, 0.011363636363636364, 0.0, 0.01818181818181818, 0.0, 0.014925373134328358, 0.018867924528301886, 0.011627906976744186, 0.0, 0.0, 0.0, 0.0, 0.0, 0.011904761904761904, 0.023809523809523808, 0.013888888888888888, 0.0, 0.0, 0.0, 0.02631578947368421, 0.012345679012345678, 0.02, 0.009615384615384616, 0.0, 0.023809523809523808, 0.0, 0.0, 0.0, 0.0, 0.0, 0.0, 0.01098901098901099, 0.006993006993006993, 0.0, 0.0, 0.0, 0.01904761904761905, 0.0, 0.0, 0.0, 0.0, 0.0, 0.008, 0.0, 0.0, 0.0, 0.0, 0.0, 0.0, 0.013333333333333334, 0.0, 0.0, 0.0, 0.0, 0.02631578947368421, 0.0, 0.013888888888888888, 0.02127659574468085, 0.0, 0.0, 0.0, 0.0, 0.0, 0.0, 0.0, 0.010638297872340425, 0.0, 0.0, 0.006024096385542169, 0.0, 0.0, 0.019230769230769232, 0.0, 0.011764705882352941, 0.012048192771084338, 0.0, 0.0, 0.010309278350515464, 0.0, 0.007692307692307693, 0.0, 0.0136986301369863, 0.025, 0.0, 0.0, 0.008771929824561403, 0.010309278350515464, 0.0, 0.0, 0.0, 0.018518518518518517, 0.0, 0.00819672131147541, 0.0, 0.0, 0.0, 0.0, 0.009345794392523364, 0.0, 0.0, 0.037037037037037035, 0.0, 0.0, 0.0, 0.01818181818181818, 0.0, 0.0, 0.0, 0.041666666666666664, 0.004694835680751174, 0.0, 0.011235955056179775, 0.0, 0.0, 0.0, 0.0125, 0.02857142857142857, 0.0, 0.0, 0.012987012987012988, 0.018867924528301886, 0.0, 0.010638297872340425, 0.0, 0.0, 0.015384615384615385, 0.0, 0.0, 0.0, 0.0, 0.0, 0.0, 0.0, 0.0, 0.0, 0.0, 0.0, 0.0, 0.0, 0.0, 0.0, 0.0, 0.0, 0.01098901098901099, 0.02, 0.017241379310344827, 0.0, 0.02, 0.0, 0.0, 0.0, 0.009174311926605505, 0.0, 0.0, 0.0, 0.0, 0.0, 0.0, 0.0, 0.008695652173913044, 0.015384615384615385, 0.008849557522123894, 0.011363636363636364, 0.0, 0.0, 0.008547008547008548, 0.0, 0.0, 0.0, 0.0, 0.0, 0.0, 0.0, 0.014705882352941176, 0.016129032258064516, 0.0, 0.0, 0.0, 0.0, 0.0, 0.006756756756756757, 0.0, 0.008849557522123894, 0.0, 0.0, 0.00980392156862745, 0.02564102564102564, 0.0, 0.02631578947368421, 0.010638297872340425, 0.0, 0.0, 0.0, 0.0, 0.02531645569620253, 0.019230769230769232, 0.0, 0.0, 0.0, 0.0, 0.0, 0.0, 0.0, 0.0, 0.0, 0.008130081300813009, 0.0, 0.0, 0.0, 0.0, 0.0, 0.0, 0.0, 0.0, 0.0, 0.0, 0.0, 0.0, 0.0, 0.0, 0.0, 0.02127659574468085, 0.0, 0.0, 0.07246376811594203, 0.0, 0.0, 0.00980392156862745, 0.014285714285714285, 0.0, 0.0, 0.015625, 0.0, 0.0, 0.0, 0.0, 0.0, 0.0, 0.0, 0.0, 0.0, 0.0, 0.014285714285714285, 0.0, 0.0, 0.014084507042253521, 0.014285714285714285, 0.0, 0.0, 0.01020408163265306, 0.0, 0.011111111111111112, 0.0, 0.009174311926605505, 0.0, 0.009345794392523364, 0.0, 0.0, 0.0, 0.0, 0.0, 0.0, 0.0684931506849315, 0.0, 0.014084507042253521, 0.0, 0.0, 0.012987012987012988, 0.0, 0.0, 0.0, 0.0, 0.0, 0.0, 0.0, 0.016666666666666666, 0.00980392156862745, 0.0, 0.0, 0.0, 0.0, 0.011494252873563218, 0.029411764705882353, 0.0, 0.0, 0.0, 0.02, 0.0, 0.007936507936507936, 0.0, 0.0, 0.0, 0.0, 0.0, 0.0, 0.0, 0.0, 0.0, 0.0, 0.0, 0.013157894736842105, 0.0, 0.0, 0.013157894736842105, 0.0, 0.0, 0.0, 0.0, 0.013333333333333334, 0.0, 0.0, 0.0, 0.0, 0.0, 0.0, 0.0, 0.0, 0.0, 0.0, 0.0, 0.0, 0.02, 0.0, 0.0, 0.037037037037037035, 0.0, 0.0, 0.0, 0.005319148936170213, 0.0, 0.009259259259259259, 0.0, 0.0, 0.010752688172043012, 0.015625, 0.010638297872340425, 0.0, 0.0, 0.0, 0.0, 0.0, 0.0, 0.0, 0.0, 0.023529411764705882, 0.0, 0.0, 0.0, 0.0, 0.0, 0.0, 0.0, 0.0, 0.0, 0.006711409395973154, 0.0, 0.0, 0.01639344262295082, 0.0, 0.0, 0.0, 0.006944444444444444, 0.0, 0.016666666666666666, 0.019230769230769232, 0.0, 0.0, 0.02631578947368421, 0.0, 0.010638297872340425, 0.0, 0.0, 0.0, 0.0, 0.013888888888888888, 0.0, 0.0, 0.0, 0.014492753623188406, 0.0, 0.0, 0.0, 0.0, 0.0, 0.013888888888888888, 0.0, 0.008928571428571428, 0.018518518518518517, 0.024390243902439025, 0.0, 0.016129032258064516, 0.0, 0.0, 0.0, 0.0, 0.03225806451612903, 0.012195121951219513, 0.0, 0.0, 0.0, 0.0, 0.0, 0.018867924528301886, 0.0, 0.0, 0.0, 0.015384615384615385, 0.0, 0.0, 0.0, 0.0, 0.0, 0.01282051282051282, 0.0, 0.0, 0.0, 0.0, 0.0, 0.0, 0.0, 0.012048192771084338, 0.0, 0.0, 0.0, 0.0, 0.007518796992481203, 0.014084507042253521, 0.0, 0.0, 0.015151515151515152, 0.0, 0.02631578947368421, 0.010309278350515464, 0.022222222222222223, 0.024691358024691357, 0.0, 0.010526315789473684, 0.03225806451612903, 0.0, 0.0, 0.0, 0.0, 0.014084507042253521, 0.0, 0.0, 0.0, 0.0, 0.0, 0.010752688172043012, 0.03508771929824561, 0.0, 0.015384615384615385, 0.0, 0.008547008547008548, 0.008695652173913044, 0.01694915254237288, 0.0, 0.0, 0.012048192771084338, 0.0, 0.0, 0.018867924528301886, 0.0, 0.0, 0.0, 0.01694915254237288, 0.013888888888888888, 0.0, 0.0, 0.015151515151515152, 0.0, 0.0, 0.019417475728155338, 0.0, 0.011494252873563218, 0.0, 0.017241379310344827, 0.0, 0.011764705882352941, 0.009345794392523364, 0.0, 0.0, 0.0, 0.017241379310344827, 0.023255813953488372, 0.0, 0.0, 0.0, 0.0, 0.021739130434782608, 0.017857142857142856, 0.0, 0.0, 0.044444444444444446, 0.0, 0.0, 0.0, 0.0, 0.011904761904761904, 0.016129032258064516, 0.0, 0.0, 0.0, 0.0, 0.0, 0.0, 0.0, 0.0, 0.0, 0.01639344262295082, 0.021739130434782608, 0.0, 0.0, 0.0, 0.006622516556291391, 0.0, 0.0, 0.0, 0.00909090909090909, 0.0, 0.01020408163265306, 0.03333333333333333, 0.0, 0.0, 0.0, 0.012195121951219513, 0.011494252873563218, 0.0, 0.0, 0.0, 0.0, 0.0, 0.0, 0.0, 0.0, 0.0, 0.03125, 0.0, 0.034482758620689655, 0.0, 0.0, 0.041666666666666664, 0.021739130434782608, 0.0, 0.0, 0.0, 0.0, 0.009708737864077669, 0.011235955056179775, 0.0, 0.012345679012345678, 0.0, 0.030303030303030304, 0.0, 0.008403361344537815, 0.0, 0.0, 0.0, 0.014492753623188406, 0.0, 0.0, 0.022727272727272728, 0.010309278350515464, 0.0, 0.0, 0.0, 0.0, 0.0136986301369863, 0.0, 0.0, 0.0, 0.006802721088435374, 0.011904761904761904, 0.0, 0.0, 0.0, 0.010416666666666666, 0.008771929824561403, 0.03225806451612903, 0.0, 0.0, 0.0, 0.005747126436781609, 0.0, 0.0, 0.0, 0.0, 0.0, 0.0, 0.01904761904761905, 0.0, 0.0, 0.0, 0.0, 0.010309278350515464, 0.015873015873015872, 0.010526315789473684, 0.0, 0.0, 0.0, 0.01639344262295082, 0.012048192771084338, 0.013888888888888888, 0.0, 0.0, 0.010526315789473684, 0.02040816326530612, 0.0, 0.0, 0.0, 0.0, 0.0, 0.012048192771084338, 0.0, 0.0, 0.0, 0.0, 0.0, 0.006134969325153374, 0.020833333333333332, 0.00423728813559322, 0.0, 0.0, 0.022727272727272728, 0.0, 0.0, 0.0, 0.0, 0.0, 0.0, 0.0, 0.0, 0.02702702702702703, 0.0, 0.0, 0.0, 0.01818181818181818, 0.0, 0.018867924528301886, 0.0, 0.0, 0.0, 0.01098901098901099, 0.0, 0.010416666666666666, 0.0, 0.0, 0.0, 0.0, 0.0, 0.0, 0.010869565217391304, 0.0, 0.0, 0.0, 0.02857142857142857, 0.0, 0.0, 0.0056179775280898875, 0.0, 0.0, 0.0, 0.0, 0.020833333333333332, 0.0, 0.0, 0.0, 0.0, 0.012345679012345678, 0.0, 0.0, 0.0, 0.0, 0.0, 0.030303030303030304, 0.0, 0.007194244604316547, 0.0, 0.07692307692307693, 0.00625, 0.0, 0.0, 0.0, 0.0, 0.0, 0.0, 0.0, 0.0, 0.0, 0.0, 0.016666666666666666, 0.0, 0.013888888888888888, 0.0, 0.0, 0.0, 0.0, 0.0125, 0.0, 0.015151515151515152, 0.0, 0.009708737864077669, 0.017543859649122806, 0.03333333333333333, 0.0, 0.0, 0.0, 0.0, 0.0, 0.0, 0.0, 0.0, 0.0, 0.02127659574468085, 0.0, 0.010752688172043012, 0.008620689655172414, 0.0, 0.0, 0.007751937984496124, 0.0, 0.008333333333333333, 0.0, 0.016129032258064516, 0.008695652173913044, 0.007407407407407408, 0.0, 0.0, 0.0, 0.0, 0.0, 0.0, 0.011494252873563218, 0.016129032258064516, 0.0, 0.0, 0.015151515151515152, 0.011235955056179775, 0.008620689655172414, 0.021052631578947368, 0.015873015873015872, 0.0, 0.0, 0.0, 0.030303030303030304, 0.0, 0.0, 0.0, 0.0, 0.011904761904761904, 0.008547008547008548, 0.0, 0.0, 0.0, 0.011235955056179775, 0.011904761904761904, 0.0, 0.0, 0.021739130434782608, 0.0, 0.0, 0.015625, 0.02127659574468085, 0.0, 0.0196078431372549, 0.0, 0.009259259259259259, 0.007142857142857143, 0.020833333333333332, 0.0, 0.0, 0.0, 0.0136986301369863, 0.011111111111111112, 0.011764705882352941, 0.013157894736842105, 0.0, 0.0, 0.0, 0.006896551724137931, 0.0, 0.0, 0.0, 0.0, 0.0, 0.009009009009009009, 0.0, 0.0, 0.0, 0.0, 0.0, 0.013157894736842105, 0.0, 0.0, 0.0, 0.0, 0.0, 0.007692307692307693, 0.0, 0.0, 0.0, 0.012658227848101266, 0.0, 0.005025125628140704, 0.0045662100456621, 0.010869565217391304, 0.0, 0.0, 0.014492753623188406, 0.0, 0.0, 0.024390243902439025, 0.0, 0.0, 0.0, 0.0, 0.0, 0.0, 0.0, 0.0, 0.0, 0.0, 0.015384615384615385, 0.0, 0.0136986301369863, 0.0, 0.0, 0.0, 0.0, 0.0, 0.0, 0.0, 0.0, 0.0, 0.0, 0.0, 0.01818181818181818, 0.0, 0.0, 0.0, 0.03571428571428571, 0.0, 0.0, 0.0, 0.0, 0.0, 0.0, 0.0, 0.0, 0.029411764705882353, 0.0, 0.008928571428571428, 0.0, 0.0, 0.0, 0.0, 0.0, 0.0, 0.013513513513513514, 0.0, 0.0, 0.0, 0.0, 0.0, 0.0, 0.0, 0.0, 0.0, 0.018867924528301886, 0.0, 0.0, 0.0, 0.0, 0.0, 0.075, 0.0, 0.023809523809523808, 0.0, 0.0, 0.007462686567164179, 0.0, 0.02, 0.010752688172043012, 0.0, 0.0, 0.004901960784313725, 0.0, 0.0, 0.0125, 0.01098901098901099, 0.0, 0.0196078431372549, 0.0, 0.0, 0.0, 0.009708737864077669, 0.0, 0.007518796992481203, 0.0, 0.0, 0.015151515151515152, 0.006944444444444444, 0.0, 0.0, 0.0, 0.0, 0.02127659574468085, 0.0, 0.0, 0.02702702702702703, 0.0, 0.02, 0.0136986301369863, 0.0, 0.0, 0.0, 0.0392156862745098, 0.0, 0.014705882352941176, 0.06451612903225806, 0.0, 0.005952380952380952, 0.0, 0.0, 0.0, 0.0, 0.0, 0.0, 0.0, 0.010526315789473684, 0.009433962264150943, 0.0, 0.0, 0.0, 0.0, 0.0, 0.0, 0.0, 0.0, 0.0, 0.043478260869565216, 0.025974025974025976, 0.0, 0.0, 0.0, 0.0, 0.0, 0.0125, 0.01282051282051282, 0.0, 0.0, 0.0, 0.0, 0.0, 0.0, 0.017857142857142856, 0.0, 0.0, 0.0, 0.0, 0.014705882352941176, 0.01282051282051282, 0.0, 0.0, 0.0, 0.0, 0.0, 0.0, 0.0, 0.0, 0.008130081300813009, 0.0, 0.0, 0.016666666666666666, 0.0, 0.007194244604316547, 0.0, 0.006535947712418301, 0.0, 0.0, 0.012195121951219513, 0.0, 0.0, 0.0, 0.0, 0.0, 0.008928571428571428, 0.0, 0.0, 0.0, 0.0, 0.020833333333333332, 0.0, 0.0, 0.0, 0.01020408163265306, 0.021739130434782608, 0.0, 0.0, 0.0, 0.0, 0.0, 0.0, 0.0, 0.0, 0.0, 0.0, 0.021739130434782608, 0.011764705882352941, 0.0, 0.0, 0.0, 0.00684931506849315, 0.0, 0.08333333333333333, 0.0, 0.015384615384615385, 0.027777777777777776, 0.0, 0.0058823529411764705, 0.008403361344537815, 0.020833333333333332, 0.021739130434782608, 0.015384615384615385, 0.0, 0.0, 0.0, 0.014285714285714285, 0.0, 0.023809523809523808, 0.0, 0.0, 0.0, 0.0, 0.0, 0.0, 0.0, 0.0, 0.00980392156862745, 0.0, 0.0, 0.0, 0.0, 0.0, 0.016666666666666666, 0.0, 0.0, 0.0, 0.013888888888888888, 0.011494252873563218, 0.0, 0.0, 0.0, 0.0, 0.014285714285714285, 0.0, 0.015625, 0.015151515151515152, 0.008547008547008548, 0.02531645569620253, 0.0, 0.0, 0.0, 0.0, 0.009708737864077669, 0.0, 0.015384615384615385, 0.0, 0.0, 0.013888888888888888, 0.01282051282051282, 0.0, 0.0, 0.02040816326530612, 0.0, 0.0, 0.0, 0.022222222222222223, 0.0, 0.0, 0.025, 0.0, 0.006993006993006993, 0.010869565217391304, 0.007462686567164179, 0.02197802197802198, 0.009345794392523364, 0.022727272727272728, 0.0, 0.0, 0.00909090909090909, 0.0, 0.03225806451612903, 0.0, 0.0, 0.015151515151515152, 0.0, 0.016666666666666666, 0.0, 0.0, 0.03125, 0.0, 0.0, 0.0, 0.0, 0.0, 0.0, 0.0, 0.014285714285714285, 0.012987012987012988, 0.0, 0.0, 0.014492753623188406, 0.0, 0.0, 0.0, 0.0, 0.0, 0.006993006993006993, 0.016129032258064516, 0.0, 0.0, 0.0, 0.014492753623188406, 0.16129032258064516, 0.0, 0.03225806451612903, 0.0, 0.010752688172043012, 0.0, 0.0, 0.0, 0.0, 0.0, 0.0, 0.0, 0.005988023952095809, 0.0, 0.0, 0.0, 0.0, 0.005988023952095809, 0.0, 0.0, 0.0, 0.0, 0.0, 0.0, 0.0, 0.013513513513513514, 0.0, 0.009174311926605505, 0.0, 0.0, 0.008849557522123894, 0.0, 0.015384615384615385, 0.0, 0.017241379310344827, 0.013513513513513514, 0.0, 0.004761904761904762, 0.014598540145985401, 0.0, 0.010869565217391304, 0.0, 0.0, 0.0, 0.0, 0.0, 0.0, 0.0, 0.0, 0.0, 0.021739130434782608, 0.0, 0.015873015873015872, 0.0, 0.0, 0.0072992700729927005, 0.017857142857142856, 0.0, 0.0, 0.0, 0.0, 0.0, 0.0, 0.0, 0.0, 0.0, 0.05263157894736842, 0.03333333333333333, 0.0, 0.0, 0.0, 0.01282051282051282, 0.0, 0.0, 0.0, 0.0, 0.007194244604316547, 0.043478260869565216, 0.012345679012345678, 0.011627906976744186, 0.029411764705882353, 0.0, 0.015873015873015872, 0.021739130434782608, 0.02127659574468085, 0.0, 0.0, 0.0, 0.01639344262295082, 0.025, 0.0, 0.0125, 0.0, 0.0, 0.0, 0.0, 0.0, 0.0, 0.00684931506849315, 0.0, 0.0, 0.0, 0.023809523809523808, 0.0, 0.0, 0.03125, 0.0, 0.0, 0.009615384615384616, 0.0, 0.0, 0.0, 0.0, 0.0, 0.0, 0.010416666666666666, 0.015384615384615385, 0.0, 0.0, 0.0, 0.0, 0.015151515151515152, 0.0, 0.0, 0.0, 0.008695652173913044, 0.01, 0.011111111111111112, 0.0, 0.015384615384615385, 0.0, 0.0, 0.0, 0.0, 0.0, 0.0, 0.014084507042253521, 0.0, 0.1111111111111111, 0.02040816326530612, 0.0196078431372549, 0.0, 0.0, 0.012195121951219513, 0.0, 0.017241379310344827, 0.0, 0.016666666666666666, 0.0, 0.0625, 0.0, 0.0, 0.019230769230769232, 0.011235955056179775, 0.011235955056179775, 0.0, 0.017857142857142856, 0.0, 0.0, 0.0, 0.0, 0.0, 0.0, 0.0, 0.0, 0.010101010101010102, 0.0, 0.0, 0.0, 0.012345679012345678, 0.023809523809523808, 0.0, 0.0, 0.0, 0.01020408163265306, 0.024096385542168676, 0.016129032258064516, 0.0, 0.0, 0.0, 0.0, 0.0, 0.0, 0.020833333333333332, 0.0, 0.0, 0.0, 0.0, 0.008064516129032258, 0.0, 0.0, 0.0, 0.0, 0.008064516129032258, 0.02040816326530612, 0.0, 0.009433962264150943, 0.0196078431372549, 0.0, 0.0, 0.0, 0.0, 0.0, 0.0, 0.0, 0.0, 0.0, 0.0, 0.00980392156862745, 0.0, 0.0, 0.0, 0.0, 0.0, 0.0, 0.011363636363636364, 0.018867924528301886, 0.01282051282051282, 0.0, 0.0, 0.0, 0.011363636363636364, 0.01098901098901099, 0.0, 0.0, 0.0, 0.0, 0.0, 0.05555555555555555, 0.0, 0.015625, 0.0, 0.009345794392523364, 0.0, 0.0, 0.011363636363636364, 0.0, 0.0, 0.0, 0.0, 0.03571428571428571, 0.0, 0.010101010101010102, 0.0, 0.012658227848101266, 0.0, 0.0, 0.011235955056179775, 0.0056179775280898875, 0.0, 0.0, 0.0, 0.0, 0.0, 0.008130081300813009, 0.0, 0.0, 0.012987012987012988, 0.0, 0.0, 0.007936507936507936, 0.037037037037037035, 0.0, 0.0, 0.012658227848101266, 0.0, 0.0, 0.0, 0.0, 0.01098901098901099, 0.012987012987012988, 0.0, 0.012658227848101266, 0.0, 0.0, 0.0, 0.0, 0.011363636363636364, 0.0, 0.01818181818181818, 0.0, 0.014925373134328358, 0.018867924528301886, 0.011627906976744186, 0.0, 0.0, 0.0, 0.0, 0.0, 0.011904761904761904, 0.023809523809523808, 0.013888888888888888, 0.0, 0.0, 0.0, 0.02631578947368421, 0.012345679012345678, 0.02, 0.009615384615384616, 0.0, 0.023809523809523808, 0.0, 0.0, 0.0, 0.0, 0.0, 0.0, 0.01098901098901099, 0.006993006993006993, 0.0, 0.0, 0.0, 0.01904761904761905, 0.0, 0.0, 0.0, 0.0, 0.0, 0.008, 0.0, 0.0, 0.0, 0.0, 0.0, 0.0, 0.013333333333333334, 0.0, 0.0, 0.0, 0.0, 0.02631578947368421, 0.0, 0.013888888888888888, 0.02127659574468085, 0.0, 0.0, 0.0, 0.0, 0.0, 0.0, 0.0, 0.010638297872340425, 0.0, 0.0, 0.006024096385542169, 0.0, 0.0, 0.019230769230769232, 0.0, 0.011764705882352941, 0.012048192771084338, 0.0, 0.0, 0.010309278350515464, 0.0, 0.007692307692307693, 0.0, 0.0136986301369863, 0.025, 0.0, 0.0, 0.008771929824561403, 0.010309278350515464, 0.0, 0.0, 0.0, 0.018518518518518517, 0.0, 0.00819672131147541, 0.0, 0.0, 0.0, 0.0, 0.009345794392523364, 0.0, 0.0, 0.037037037037037035, 0.0, 0.0, 0.0, 0.01818181818181818, 0.0, 0.0, 0.0, 0.041666666666666664, 0.004694835680751174, 0.0, 0.011235955056179775, 0.0, 0.0, 0.0, 0.0125, 0.02857142857142857, 0.0, 0.0, 0.012987012987012988, 0.018867924528301886, 0.0, 0.010638297872340425, 0.0, 0.0, 0.015384615384615385, 0.0, 0.0, 0.0, 0.0, 0.0, 0.0, 0.0, 0.0, 0.0, 0.0, 0.0, 0.0, 0.0, 0.0, 0.0, 0.0, 0.0, 0.01098901098901099, 0.02, 0.017241379310344827, 0.0, 0.02, 0.0, 0.0, 0.0, 0.009174311926605505, 0.0, 0.0, 0.0, 0.0, 0.0, 0.0, 0.0, 0.008695652173913044, 0.015384615384615385, 0.008849557522123894, 0.011363636363636364, 0.0, 0.0, 0.008547008547008548, 0.0, 0.0, 0.0, 0.0, 0.0, 0.0, 0.0, 0.014705882352941176, 0.016129032258064516, 0.0, 0.0, 0.0, 0.0, 0.0, 0.006756756756756757, 0.0, 0.008849557522123894, 0.0, 0.0, 0.00980392156862745, 0.02564102564102564, 0.0, 0.02631578947368421, 0.010638297872340425, 0.0, 0.0, 0.0, 0.0, 0.02531645569620253, 0.019230769230769232, 0.0, 0.0, 0.0, 0.0, 0.0, 0.0, 0.0, 0.0, 0.0, 0.008130081300813009, 0.0, 0.0, 0.0, 0.0, 0.0, 0.0, 0.0, 0.0, 0.0, 0.0, 0.0, 0.0, 0.0, 0.0, 0.0, 0.02127659574468085, 0.0, 0.0, 0.07246376811594203, 0.0, 0.0, 0.00980392156862745, 0.014285714285714285, 0.0, 0.0, 0.015625, 0.0, 0.0, 0.0, 0.0, 0.0, 0.0, 0.0, 0.0, 0.0, 0.0, 0.014285714285714285, 0.0, 0.0, 0.014084507042253521, 0.014285714285714285, 0.0, 0.0, 0.01020408163265306, 0.0, 0.011111111111111112, 0.0, 0.009174311926605505, 0.0, 0.009345794392523364, 0.0, 0.0, 0.0, 0.0, 0.0, 0.0, 0.0684931506849315, 0.0, 0.014084507042253521, 0.0, 0.0, 0.012987012987012988, 0.0, 0.0, 0.0, 0.0, 0.0, 0.0, 0.0, 0.016666666666666666, 0.00980392156862745, 0.0, 0.0, 0.0, 0.0, 0.011494252873563218, 0.029411764705882353, 0.0, 0.0, 0.0, 0.02, 0.0, 0.007936507936507936, 0.0, 0.0, 0.0, 0.0, 0.0, 0.0, 0.0, 0.0, 0.0, 0.0, 0.0, 0.013157894736842105, 0.0, 0.0, 0.013157894736842105, 0.0, 0.0, 0.0, 0.0, 0.013333333333333334, 0.0, 0.0, 0.0, 0.0, 0.0, 0.0, 0.0, 0.0, 0.0, 0.0, 0.0, 0.0, 0.02, 0.0, 0.0, 0.037037037037037035, 0.0, 0.0, 0.0, 0.005319148936170213, 0.0, 0.009259259259259259, 0.0, 0.0, 0.010752688172043012, 0.015625, 0.010638297872340425, 0.0, 0.0, 0.0, 0.0, 0.0, 0.0, 0.0, 0.0, 0.023529411764705882, 0.0, 0.0, 0.0, 0.0, 0.0, 0.0, 0.0, 0.0, 0.0, 0.006711409395973154, 0.0, 0.0, 0.01639344262295082, 0.0, 0.0, 0.0, 0.006944444444444444, 0.0, 0.016666666666666666, 0.019230769230769232, 0.0, 0.0, 0.02631578947368421, 0.0, 0.010638297872340425, 0.0, 0.0, 0.0, 0.0, 0.013888888888888888, 0.0, 0.0, 0.0, 0.014492753623188406, 0.0, 0.0, 0.0, 0.0, 0.0, 0.013888888888888888, 0.0, 0.008928571428571428, 0.018518518518518517, 0.024390243902439025, 0.0, 0.016129032258064516, 0.0, 0.0, 0.0, 0.0, 0.03225806451612903, 0.012195121951219513, 0.0, 0.0, 0.0, 0.0, 0.0, 0.018867924528301886, 0.0, 0.0, 0.0, 0.015384615384615385, 0.0, 0.0, 0.0, 0.0, 0.0, 0.01282051282051282, 0.0, 0.0, 0.0, 0.0, 0.0, 0.0, 0.0, 0.012048192771084338, 0.0, 0.0, 0.0, 0.0, 0.007518796992481203, 0.014084507042253521, 0.0, 0.0, 0.015151515151515152, 0.0, 0.02631578947368421, 0.010309278350515464, 0.022222222222222223, 0.024691358024691357, 0.0, 0.010526315789473684, 0.03225806451612903, 0.0, 0.0, 0.0, 0.0, 0.014084507042253521, 0.0, 0.0, 0.0, 0.0, 0.0, 0.010752688172043012, 0.03508771929824561, 0.0, 0.015384615384615385, 0.0, 0.008547008547008548, 0.008695652173913044, 0.01694915254237288, 0.0, 0.0, 0.012048192771084338, 0.0, 0.0, 0.018867924528301886, 0.0, 0.0, 0.0, 0.01694915254237288, 0.013888888888888888, 0.0, 0.0, 0.015151515151515152, 0.0, 0.0, 0.019417475728155338, 0.0, 0.011494252873563218, 0.0, 0.017241379310344827, 0.0, 0.011764705882352941, 0.009345794392523364, 0.0, 0.0, 0.0, 0.017241379310344827, 0.023255813953488372, 0.0, 0.0, 0.0, 0.0, 0.021739130434782608, 0.017857142857142856, 0.0, 0.0, 0.044444444444444446, 0.0, 0.0, 0.0, 0.0, 0.011904761904761904, 0.016129032258064516, 0.0, 0.0, 0.0, 0.0, 0.0, 0.0, 0.0, 0.0, 0.0, 0.01639344262295082, 0.021739130434782608, 0.0, 0.0, 0.0, 0.006622516556291391, 0.0, 0.0, 0.0, 0.00909090909090909, 0.0, 0.01020408163265306, 0.03333333333333333, 0.0, 0.0, 0.0, 0.012195121951219513, 0.011494252873563218, 0.0, 0.0, 0.0, 0.0, 0.0, 0.0, 0.0, 0.0, 0.0, 0.03125, 0.0, 0.034482758620689655, 0.0, 0.0, 0.041666666666666664, 0.021739130434782608, 0.0, 0.0, 0.0, 0.0, 0.009708737864077669, 0.011235955056179775, 0.0, 0.012345679012345678, 0.0, 0.030303030303030304, 0.0, 0.008403361344537815, 0.0, 0.0, 0.0, 0.014492753623188406, 0.0, 0.0, 0.022727272727272728, 0.010309278350515464, 0.0, 0.0, 0.0, 0.0, 0.0136986301369863, 0.0, 0.0, 0.0, 0.006802721088435374, 0.011904761904761904, 0.0, 0.0, 0.0, 0.010416666666666666, 0.008771929824561403, 0.03225806451612903, 0.0, 0.0, 0.0, 0.005747126436781609, 0.0, 0.0, 0.0, 0.0, 0.0, 0.0, 0.01904761904761905, 0.0, 0.0, 0.0, 0.0, 0.010309278350515464, 0.015873015873015872, 0.010526315789473684, 0.0, 0.0, 0.0, 0.01639344262295082, 0.012048192771084338, 0.013888888888888888, 0.0, 0.0, 0.010526315789473684, 0.02040816326530612, 0.0, 0.0, 0.0, 0.0, 0.0, 0.012048192771084338, 0.0, 0.0, 0.0, 0.0, 0.0, 0.006134969325153374, 0.020833333333333332, 0.00423728813559322, 0.0, 0.0, 0.022727272727272728, 0.0, 0.0, 0.0, 0.0, 0.0, 0.0, 0.0, 0.0, 0.02702702702702703, 0.0, 0.0, 0.0, 0.01818181818181818, 0.0, 0.018867924528301886, 0.0, 0.0, 0.0, 0.01098901098901099, 0.0, 0.010416666666666666, 0.0, 0.0, 0.0, 0.0, 0.0, 0.0, 0.010869565217391304, 0.0, 0.0, 0.0, 0.02857142857142857, 0.0, 0.0, 0.0056179775280898875, 0.0, 0.0, 0.0, 0.0, 0.020833333333333332, 0.0, 0.0, 0.0, 0.0, 0.012345679012345678, 0.0, 0.0, 0.0, 0.0, 0.0, 0.030303030303030304, 0.0, 0.007194244604316547, 0.0, 0.07692307692307693, 0.00625, 0.0, 0.0, 0.0, 0.0, 0.0, 0.0, 0.0, 0.0, 0.0, 0.0, 0.016666666666666666, 0.0, 0.013888888888888888, 0.0, 0.0, 0.0, 0.0, 0.0125, 0.0, 0.015151515151515152, 0.0, 0.009708737864077669, 0.017543859649122806, 0.03333333333333333, 0.0, 0.0, 0.0, 0.0, 0.0, 0.0, 0.0, 0.0, 0.0, 0.02127659574468085, 0.0, 0.010752688172043012, 0.008620689655172414, 0.0, 0.0, 0.007751937984496124, 0.0, 0.008333333333333333, 0.0, 0.016129032258064516, 0.008695652173913044, 0.007407407407407408, 0.0, 0.0, 0.0, 0.0, 0.0, 0.0, 0.011494252873563218, 0.016129032258064516, 0.0, 0.0, 0.015151515151515152, 0.011235955056179775, 0.008620689655172414, 0.021052631578947368, 0.015873015873015872, 0.0, 0.0, 0.0, 0.030303030303030304, 0.0, 0.0, 0.0, 0.0, 0.011904761904761904, 0.008547008547008548, 0.0, 0.0, 0.0, 0.011235955056179775, 0.011904761904761904, 0.0, 0.0, 0.021739130434782608, 0.0, 0.0, 0.015625, 0.02127659574468085, 0.0, 0.0196078431372549, 0.0, 0.009259259259259259, 0.007142857142857143, 0.020833333333333332, 0.0, 0.0, 0.0, 0.0136986301369863, 0.011111111111111112, 0.011764705882352941, 0.013157894736842105, 0.0, 0.0, 0.0, 0.006896551724137931, 0.0, 0.0, 0.0, 0.0, 0.0, 0.009009009009009009, 0.0, 0.0, 0.0, 0.0, 0.0, 0.013157894736842105, 0.0, 0.0, 0.0, 0.0, 0.0, 0.007692307692307693, 0.0, 0.0, 0.0, 0.012658227848101266, 0.0, 0.005025125628140704, 0.0045662100456621, 0.010869565217391304, 0.0, 0.0, 0.014492753623188406, 0.0, 0.0, 0.024390243902439025, 0.0, 0.0, 0.0, 0.0, 0.0, 0.0, 0.0, 0.0, 0.0, 0.0, 0.015384615384615385, 0.0, 0.0136986301369863, 0.0, 0.0, 0.0, 0.0, 0.0, 0.0, 0.0, 0.0, 0.0, 0.0, 0.0, 0.01818181818181818, 0.0, 0.0, 0.0, 0.03571428571428571, 0.0, 0.0, 0.0, 0.0, 0.0, 0.0, 0.0, 0.0, 0.029411764705882353, 0.0, 0.008928571428571428, 0.0, 0.0, 0.0, 0.0, 0.0, 0.0, 0.013513513513513514, 0.0, 0.0, 0.0, 0.0, 0.0, 0.0, 0.0, 0.0, 0.0, 0.018867924528301886, 0.0, 0.0, 0.0, 0.0, 0.0, 0.075, 0.0, 0.023809523809523808, 0.0, 0.0, 0.007462686567164179, 0.0, 0.02, 0.010752688172043012, 0.0, 0.0, 0.004901960784313725, 0.0, 0.0, 0.0125, 0.01098901098901099, 0.0, 0.0196078431372549, 0.0, 0.0, 0.0, 0.009708737864077669, 0.0, 0.007518796992481203, 0.0, 0.0, 0.015151515151515152, 0.006944444444444444, 0.0, 0.0, 0.0, 0.0, 0.02127659574468085, 0.0, 0.0, 0.02702702702702703, 0.0, 0.02, 0.0136986301369863, 0.0, 0.0, 0.0, 0.0392156862745098, 0.0, 0.014705882352941176, 0.06451612903225806, 0.0, 0.005952380952380952, 0.0, 0.0, 0.0, 0.0, 0.0, 0.0, 0.0, 0.010526315789473684, 0.009433962264150943, 0.0, 0.0, 0.0, 0.0, 0.0, 0.0, 0.0, 0.0, 0.0, 0.043478260869565216, 0.025974025974025976, 0.0, 0.0, 0.0, 0.0, 0.0, 0.0125, 0.01282051282051282, 0.0, 0.0, 0.0, 0.0, 0.0, 0.0, 0.017857142857142856, 0.0, 0.0, 0.0, 0.0, 0.014705882352941176, 0.01282051282051282, 0.0, 0.0, 0.0, 0.0, 0.0, 0.0, 0.0, 0.0, 0.008130081300813009, 0.0, 0.0, 0.016666666666666666, 0.0, 0.007194244604316547, 0.0, 0.006535947712418301, 0.0, 0.0, 0.012195121951219513, 0.0, 0.0, 0.0, 0.0, 0.0, 0.008928571428571428, 0.0, 0.0, 0.0, 0.0, 0.020833333333333332, 0.0, 0.0, 0.0, 0.01020408163265306, 0.021739130434782608, 0.0, 0.0, 0.0, 0.0, 0.0, 0.0, 0.0, 0.0, 0.0, 0.0, 0.021739130434782608, 0.011764705882352941, 0.0, 0.0, 0.0, 0.00684931506849315, 0.0, 0.08333333333333333, 0.0, 0.015384615384615385, 0.027777777777777776, 0.0, 0.0058823529411764705, 0.008403361344537815, 0.020833333333333332, 0.021739130434782608, 0.015384615384615385, 0.0, 0.0, 0.0, 0.014285714285714285, 0.0, 0.023809523809523808, 0.0, 0.0, 0.0, 0.0, 0.0, 0.0, 0.0, 0.0, 0.00980392156862745, 0.0, 0.0, 0.0, 0.0, 0.0, 0.016666666666666666, 0.0, 0.0, 0.0, 0.013888888888888888, 0.011494252873563218, 0.0, 0.0, 0.0, 0.0, 0.014285714285714285, 0.0, 0.015625, 0.015151515151515152, 0.008547008547008548, 0.02531645569620253, 0.0, 0.0, 0.0, 0.0, 0.009708737864077669, 0.0, 0.015384615384615385, 0.0, 0.0, 0.013888888888888888, 0.01282051282051282, 0.0, 0.0, 0.02040816326530612, 0.0, 0.0, 0.0, 0.022222222222222223, 0.0, 0.0, 0.025, 0.0, 0.006993006993006993, 0.010869565217391304, 0.007462686567164179, 0.02197802197802198, 0.009345794392523364, 0.022727272727272728, 0.0, 0.0, 0.00909090909090909, 0.0, 0.03225806451612903, 0.0, 0.0, 0.015151515151515152, 0.0, 0.016666666666666666, 0.0, 0.0, 0.03125, 0.0, 0.0, 0.0, 0.0, 0.0, 0.0, 0.0, 0.014285714285714285, 0.012987012987012988, 0.0, 0.0, 0.014492753623188406, 0.0, 0.0, 0.0, 0.0, 0.0, 0.006993006993006993, 0.016129032258064516, 0.0, 0.0, 0.0, 0.014492753623188406, 0.16129032258064516, 0.0, 0.03225806451612903, 0.0, 0.010752688172043012, 0.0, 0.0, 0.0, 0.0, 0.0, 0.0, 0.0, 0.005988023952095809, 0.0, 0.0, 0.0, 0.0, 0.005988023952095809, 0.0, 0.0, 0.0, 0.0, 0.0, 0.0, 0.0, 0.013513513513513514, 0.0, 0.009174311926605505, 0.0, 0.0, 0.008849557522123894, 0.0, 0.015384615384615385, 0.0, 0.017241379310344827, 0.013513513513513514, 0.0, 0.004761904761904762, 0.014598540145985401, 0.0, 0.010869565217391304, 0.0, 0.0, 0.0, 0.0, 0.0, 0.0, 0.0, 0.0, 0.0, 0.021739130434782608, 0.0, 0.015873015873015872, 0.0, 0.0, 0.0072992700729927005, 0.017857142857142856, 0.0, 0.0, 0.0, 0.0, 0.0, 0.0, 0.0, 0.0, 0.0, 0.05263157894736842, 0.03333333333333333, 0.0, 0.0, 0.0, 0.01282051282051282, 0.0, 0.0, 0.0, 0.0, 0.007194244604316547, 0.043478260869565216, 0.012345679012345678, 0.011627906976744186, 0.029411764705882353, 0.0, 0.015873015873015872, 0.021739130434782608, 0.02127659574468085, 0.0, 0.0, 0.0, 0.01639344262295082, 0.025, 0.0, 0.0125, 0.0, 0.0, 0.0, 0.0, 0.0, 0.0, 0.00684931506849315, 0.0, 0.0, 0.0, 0.023809523809523808, 0.0, 0.0, 0.03125, 0.0, 0.0, 0.009615384615384616, 0.0, 0.0, 0.0, 0.0, 0.0, 0.0, 0.010416666666666666, 0.015384615384615385, 0.0, 0.0, 0.0, 0.0, 0.015151515151515152, 0.0, 0.0, 0.0, 0.008695652173913044, 0.01, 0.011111111111111112, 0.0, 0.015384615384615385, 0.0, 0.0, 0.0, 0.0, 0.0, 0.0, 0.014084507042253521, 0.0, 0.1111111111111111, 0.02040816326530612, 0.0196078431372549, 0.0, 0.0, 0.012195121951219513, 0.0, 0.017241379310344827, 0.0, 0.016666666666666666, 0.0, 0.0625, 0.0, 0.0, 0.019230769230769232, 0.011235955056179775, 0.011235955056179775, 0.0, 0.017857142857142856, 0.0, 0.0, 0.0, 0.0, 0.0, 0.0, 0.0, 0.0, 0.010101010101010102, 0.0, 0.0, 0.0, 0.012345679012345678, 0.023809523809523808, 0.0, 0.0, 0.0, 0.01020408163265306, 0.024096385542168676, 0.016129032258064516, 0.0, 0.0, 0.0, 0.0, 0.0, 0.0, 0.020833333333333332, 0.0, 0.0, 0.0, 0.0, 0.008064516129032258, 0.0, 0.0, 0.0, 0.0, 0.008064516129032258, 0.02040816326530612, 0.0, 0.009433962264150943, 0.0196078431372549, 0.0, 0.0, 0.0, 0.0, 0.0, 0.0, 0.0, 0.0, 0.0, 0.0, 0.00980392156862745, 0.0, 0.0, 0.0, 0.0, 0.0, 0.0, 0.011363636363636364, 0.018867924528301886, 0.01282051282051282, 0.0, 0.0, 0.0, 0.011363636363636364, 0.01098901098901099, 0.0, 0.0, 0.0, 0.0, 0.0, 0.05555555555555555, 0.0, 0.015625, 0.0, 0.009345794392523364, 0.0, 0.0, 0.011363636363636364, 0.0, 0.0, 0.0, 0.0, 0.03571428571428571, 0.0, 0.010101010101010102, 0.0, 0.012658227848101266, 0.0, 0.0, 0.011235955056179775, 0.0056179775280898875, 0.0, 0.0, 0.0, 0.0, 0.0, 0.008130081300813009, 0.0, 0.0, 0.012987012987012988, 0.0, 0.0, 0.007936507936507936, 0.037037037037037035, 0.0, 0.0, 0.012658227848101266, 0.0, 0.0, 0.0, 0.0, 0.01098901098901099, 0.012987012987012988, 0.0, 0.012658227848101266, 0.0, 0.0, 0.0, 0.0, 0.011363636363636364, 0.0, 0.01818181818181818, 0.0, 0.014925373134328358, 0.018867924528301886, 0.011627906976744186, 0.0, 0.0, 0.0, 0.0, 0.0, 0.011904761904761904, 0.023809523809523808, 0.013888888888888888, 0.0, 0.0, 0.0, 0.02631578947368421, 0.012345679012345678, 0.02, 0.009615384615384616, 0.0, 0.023809523809523808, 0.0, 0.0, 0.0, 0.0, 0.0, 0.0, 0.01098901098901099, 0.006993006993006993, 0.0, 0.0, 0.0, 0.01904761904761905, 0.0, 0.0, 0.0, 0.0, 0.0, 0.008, 0.0, 0.0, 0.0, 0.0, 0.0, 0.0, 0.013333333333333334, 0.0, 0.0, 0.0, 0.0, 0.02631578947368421, 0.0, 0.013888888888888888, 0.02127659574468085, 0.0, 0.0, 0.0, 0.0, 0.0, 0.0, 0.0, 0.010638297872340425, 0.0, 0.0, 0.006024096385542169, 0.0, 0.0, 0.019230769230769232, 0.0, 0.011764705882352941, 0.012048192771084338, 0.0, 0.0, 0.010309278350515464, 0.0, 0.007692307692307693, 0.0, 0.0136986301369863, 0.025, 0.0, 0.0, 0.008771929824561403, 0.010309278350515464, 0.0, 0.0, 0.0, 0.018518518518518517, 0.0, 0.00819672131147541, 0.0, 0.0, 0.0, 0.0, 0.009345794392523364, 0.0, 0.0, 0.037037037037037035, 0.0, 0.0, 0.0, 0.01818181818181818, 0.0, 0.0, 0.0, 0.041666666666666664, 0.004694835680751174, 0.0, 0.011235955056179775, 0.0, 0.0, 0.0, 0.0125, 0.02857142857142857, 0.0, 0.0, 0.012987012987012988, 0.018867924528301886, 0.0, 0.010638297872340425, 0.0, 0.0, 0.015384615384615385, 0.0, 0.0, 0.0, 0.0, 0.0, 0.0, 0.0, 0.0, 0.0, 0.0, 0.0, 0.0, 0.0, 0.0, 0.0, 0.0, 0.0, 0.01098901098901099, 0.02, 0.017241379310344827, 0.0, 0.02, 0.0, 0.0, 0.0, 0.009174311926605505, 0.0, 0.0, 0.0, 0.0, 0.0, 0.0, 0.0, 0.008695652173913044, 0.015384615384615385, 0.008849557522123894, 0.011363636363636364, 0.0, 0.0, 0.008547008547008548, 0.0, 0.0, 0.0, 0.0, 0.0, 0.0, 0.0, 0.014705882352941176, 0.016129032258064516, 0.0, 0.0, 0.0, 0.0, 0.0, 0.006756756756756757, 0.0, 0.008849557522123894, 0.0, 0.0, 0.00980392156862745, 0.02564102564102564, 0.0, 0.02631578947368421, 0.010638297872340425, 0.0, 0.0, 0.0, 0.0, 0.02531645569620253, 0.019230769230769232, 0.0, 0.0, 0.0, 0.0, 0.0, 0.0, 0.0, 0.0, 0.0, 0.008130081300813009, 0.0, 0.0, 0.0, 0.0, 0.0, 0.0, 0.0, 0.0, 0.0, 0.0, 0.0, 0.0, 0.0, 0.0]\n"
          ]
        }
      ]
    }
  ]
}